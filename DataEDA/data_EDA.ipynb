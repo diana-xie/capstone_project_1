{
 "cells": [
  {
   "cell_type": "markdown",
   "metadata": {},
   "source": [
    "# Background\n",
    "\n",
    "In our data story/visualization notebook, we inspected the data for possible bias and trends. The data appeared reasonable. However, we now turn our focus to how we can use the data to categorize music critics in a meaningful way for inputting to a recommendation engine.\n"
   ]
  },
  {
   "cell_type": "code",
   "execution_count": 68,
   "metadata": {},
   "outputs": [],
   "source": [
    "import pandas as pd\n",
    "import numpy as np\n",
    "import matplotlib.pyplot as plt\n",
    "from mpl_toolkits.axes_grid1 import make_axes_locatable\n",
    "from scipy import stats\n",
    "import seaborn as sns\n",
    "import pickle\n",
    "\n",
    "%matplotlib inline\n",
    "sns.set()"
   ]
  },
  {
   "cell_type": "code",
   "execution_count": 69,
   "metadata": {},
   "outputs": [],
   "source": [
    "df_pitchfork_spotify = pd.read_pickle('df_pitchfork_spotify.pkl')\n",
    "df_pitchfork = pd.read_pickle('df_pitchfork.pkl')\n",
    "df_authors_reviews = pd.read_pickle('df_authors_reviews.pkl')\n",
    "df_features = pd.read_pickle('df_features.pkl')"
   ]
  },
  {
   "cell_type": "markdown",
   "metadata": {},
   "source": [
    "# 1. Do audio features impact album rating?\n",
    "\n",
    "----------------------\n",
    "\n",
    "In the data visualization notebook, we plotted a large pairplot to visualize any obvious correlations between audio features, and audio features vs. score (album rating). Visualizing any trend between features & score were difficult, so we refine our analysis here."
   ]
  },
  {
   "cell_type": "code",
   "execution_count": 70,
   "metadata": {},
   "outputs": [
    {
     "data": {
      "text/html": [
       "<div>\n",
       "<style scoped>\n",
       "    .dataframe tbody tr th:only-of-type {\n",
       "        vertical-align: middle;\n",
       "    }\n",
       "\n",
       "    .dataframe tbody tr th {\n",
       "        vertical-align: top;\n",
       "    }\n",
       "\n",
       "    .dataframe thead th {\n",
       "        text-align: right;\n",
       "    }\n",
       "</style>\n",
       "<table border=\"1\" class=\"dataframe\">\n",
       "  <thead>\n",
       "    <tr style=\"text-align: right;\">\n",
       "      <th></th>\n",
       "      <th>acousticness</th>\n",
       "      <th>danceability</th>\n",
       "      <th>duration_ms</th>\n",
       "      <th>energy</th>\n",
       "      <th>instrumentalness</th>\n",
       "      <th>key</th>\n",
       "      <th>liveness</th>\n",
       "      <th>loudness</th>\n",
       "      <th>mode</th>\n",
       "      <th>speechiness</th>\n",
       "      <th>tempo</th>\n",
       "      <th>time_signature</th>\n",
       "      <th>valence</th>\n",
       "      <th>score</th>\n",
       "      <th>popularity</th>\n",
       "      <th>reviewid</th>\n",
       "    </tr>\n",
       "  </thead>\n",
       "  <tbody>\n",
       "    <tr>\n",
       "      <th>0</th>\n",
       "      <td>0.1027681818</td>\n",
       "      <td>0.6041818182</td>\n",
       "      <td>347475.1818181818</td>\n",
       "      <td>0.5367272727</td>\n",
       "      <td>0.6088181818</td>\n",
       "      <td>6.0000000000</td>\n",
       "      <td>0.1160272727</td>\n",
       "      <td>-11.0094545455</td>\n",
       "      <td>0.3636363636</td>\n",
       "      <td>0.0445545455</td>\n",
       "      <td>126.1810000000</td>\n",
       "      <td>4.0000000000</td>\n",
       "      <td>0.3600090909</td>\n",
       "      <td>9.3</td>\n",
       "      <td>61</td>\n",
       "      <td>22703</td>\n",
       "    </tr>\n",
       "    <tr>\n",
       "      <th>1</th>\n",
       "      <td>0.0000140200</td>\n",
       "      <td>0.1310000000</td>\n",
       "      <td>522000.0000000000</td>\n",
       "      <td>0.8670000000</td>\n",
       "      <td>0.7027500000</td>\n",
       "      <td>5.5000000000</td>\n",
       "      <td>0.3710000000</td>\n",
       "      <td>-10.0625000000</td>\n",
       "      <td>1.0000000000</td>\n",
       "      <td>0.0791000000</td>\n",
       "      <td>125.4172500000</td>\n",
       "      <td>3.7500000000</td>\n",
       "      <td>0.0974500000</td>\n",
       "      <td>7.9</td>\n",
       "      <td>8</td>\n",
       "      <td>22721</td>\n",
       "    </tr>\n",
       "    <tr>\n",
       "      <th>2</th>\n",
       "      <td>0.2398737250</td>\n",
       "      <td>0.4450000000</td>\n",
       "      <td>175396.3750000000</td>\n",
       "      <td>0.6752500000</td>\n",
       "      <td>0.2532515925</td>\n",
       "      <td>5.2500000000</td>\n",
       "      <td>0.1715750000</td>\n",
       "      <td>-7.4176250000</td>\n",
       "      <td>0.5000000000</td>\n",
       "      <td>0.2067625000</td>\n",
       "      <td>108.2242500000</td>\n",
       "      <td>3.8750000000</td>\n",
       "      <td>0.4981250000</td>\n",
       "      <td>7.3</td>\n",
       "      <td>25</td>\n",
       "      <td>22659</td>\n",
       "    </tr>\n",
       "    <tr>\n",
       "      <th>3</th>\n",
       "      <td>0.0177010429</td>\n",
       "      <td>0.5502857143</td>\n",
       "      <td>236645.7142857143</td>\n",
       "      <td>0.5588571429</td>\n",
       "      <td>0.6891142857</td>\n",
       "      <td>5.4285714286</td>\n",
       "      <td>0.3978571429</td>\n",
       "      <td>-11.0792857143</td>\n",
       "      <td>0.5714285714</td>\n",
       "      <td>0.1280571429</td>\n",
       "      <td>128.8520000000</td>\n",
       "      <td>4.1428571429</td>\n",
       "      <td>0.3672000000</td>\n",
       "      <td>8.1</td>\n",
       "      <td>11</td>\n",
       "      <td>22725</td>\n",
       "    </tr>\n",
       "    <tr>\n",
       "      <th>4</th>\n",
       "      <td>0.3421947826</td>\n",
       "      <td>0.6562608696</td>\n",
       "      <td>173682.9130434783</td>\n",
       "      <td>0.6576086957</td>\n",
       "      <td>0.0176078839</td>\n",
       "      <td>4.7826086957</td>\n",
       "      <td>0.2810782609</td>\n",
       "      <td>-6.1623913043</td>\n",
       "      <td>0.6086956522</td>\n",
       "      <td>0.2559086957</td>\n",
       "      <td>110.5818695652</td>\n",
       "      <td>3.7391304348</td>\n",
       "      <td>0.5176956522</td>\n",
       "      <td>7.4</td>\n",
       "      <td>56</td>\n",
       "      <td>22722</td>\n",
       "    </tr>\n",
       "  </tbody>\n",
       "</table>\n",
       "</div>"
      ],
      "text/plain": [
       "   acousticness  danceability        duration_ms        energy  \\\n",
       "0  0.1027681818  0.6041818182  347475.1818181818  0.5367272727   \n",
       "1  0.0000140200  0.1310000000  522000.0000000000  0.8670000000   \n",
       "2  0.2398737250  0.4450000000  175396.3750000000  0.6752500000   \n",
       "3  0.0177010429  0.5502857143  236645.7142857143  0.5588571429   \n",
       "4  0.3421947826  0.6562608696  173682.9130434783  0.6576086957   \n",
       "\n",
       "   instrumentalness           key      liveness       loudness          mode  \\\n",
       "0      0.6088181818  6.0000000000  0.1160272727 -11.0094545455  0.3636363636   \n",
       "1      0.7027500000  5.5000000000  0.3710000000 -10.0625000000  1.0000000000   \n",
       "2      0.2532515925  5.2500000000  0.1715750000  -7.4176250000  0.5000000000   \n",
       "3      0.6891142857  5.4285714286  0.3978571429 -11.0792857143  0.5714285714   \n",
       "4      0.0176078839  4.7826086957  0.2810782609  -6.1623913043  0.6086956522   \n",
       "\n",
       "    speechiness           tempo  time_signature       valence  score  \\\n",
       "0  0.0445545455  126.1810000000    4.0000000000  0.3600090909    9.3   \n",
       "1  0.0791000000  125.4172500000    3.7500000000  0.0974500000    7.9   \n",
       "2  0.2067625000  108.2242500000    3.8750000000  0.4981250000    7.3   \n",
       "3  0.1280571429  128.8520000000    4.1428571429  0.3672000000    8.1   \n",
       "4  0.2559086957  110.5818695652    3.7391304348  0.5176956522    7.4   \n",
       "\n",
       "   popularity  reviewid  \n",
       "0          61     22703  \n",
       "1           8     22721  \n",
       "2          25     22659  \n",
       "3          11     22725  \n",
       "4          56     22722  "
      ]
     },
     "execution_count": 70,
     "metadata": {},
     "output_type": "execute_result"
    }
   ],
   "source": [
    "df_features.head()"
   ]
  },
  {
   "cell_type": "markdown",
   "metadata": {},
   "source": [
    "## 1.1 Inspect correlations between audio features"
   ]
  },
  {
   "cell_type": "code",
   "execution_count": 71,
   "metadata": {},
   "outputs": [
    {
     "data": {
      "image/png": "[encoded data removed]",
      "text/plain": [
       "<matplotlib.figure.Figure at 0x268e4c57128>"
      ]
     },
     "metadata": {},
     "output_type": "display_data"
    }
   ],
   "source": [
    "fig, ax = plt.subplots(figsize=(10,6))\n",
    "sns.heatmap(df_features.corr(), ax=ax, cmap=\"PiYG\");"
   ]
  },
  {
   "cell_type": "markdown",
   "metadata": {},
   "source": [
    "As expected, there are a few strong correlations between some audio features. However, audio features vs. score still ambiguous. Instrumentalness may be significant. \n",
    "\n",
    "We proceed with training a model to pick out features that may particularly impact an album's score."
   ]
  },
  {
   "cell_type": "markdown",
   "metadata": {},
   "source": [
    "## 1.2 Train a model: audio features to predict score\n",
    "\n",
    "Getting overall impression of which audio features might impact score, irrespective of the individual critic who rated the album."
   ]
  },
  {
   "cell_type": "markdown",
   "metadata": {},
   "source": [
    "#### Replace NaN's w/ mean\n",
    "\n",
    "Our strategy for dealing with the occasional NaN value is to replace it with that column's mean."
   ]
  },
  {
   "cell_type": "code",
   "execution_count": 72,
   "metadata": {},
   "outputs": [],
   "source": [
    "df_features = df_features.fillna(df_features.mean())"
   ]
  },
  {
   "cell_type": "markdown",
   "metadata": {},
   "source": [
    "#### Train a linear regression model\n",
    "\n",
    "Where predictors are album audio features and prediction is album rating."
   ]
  },
  {
   "cell_type": "code",
   "execution_count": 73,
   "metadata": {},
   "outputs": [],
   "source": [
    "# list of all album features: audio track features & popularity, to feed to model\n",
    "X = df_features[['acousticness', 'danceability', 'duration_ms', 'energy', 'instrumentalness', 'key', \n",
    "                 'liveness', 'loudness', 'mode', 'speechiness', 'tempo', 'time_signature', 'valence', \n",
    "                 'popularity']]\n",
    "\n",
    "# what we want to predict: album rating\n",
    "y = df_features['score'].values.reshape((len(df_features),1))"
   ]
  },
  {
   "cell_type": "code",
   "execution_count": 74,
   "metadata": {},
   "outputs": [
    {
     "data": {
      "text/plain": [
       "LinearRegression(copy_X=True, fit_intercept=True, n_jobs=1, normalize=False)"
      ]
     },
     "execution_count": 74,
     "metadata": {},
     "output_type": "execute_result"
    }
   ],
   "source": [
    "from sklearn.cross_validation import train_test_split\n",
    "from sklearn.linear_model import LinearRegression\n",
    "\n",
    "# split data into train & test sets\n",
    "X_train, X_test, y_train, y_test = train_test_split(X, y, test_size=0.4, random_state=101)\n",
    "\n",
    "# linear fit to training set\n",
    "lm = LinearRegression() # create linear model object\n",
    "lm.fit(X_train, y_train)"
   ]
  },
  {
   "cell_type": "code",
   "execution_count": 75,
   "metadata": {},
   "outputs": [
    {
     "data": {
      "text/html": [
       "<div>\n",
       "<style scoped>\n",
       "    .dataframe tbody tr th:only-of-type {\n",
       "        vertical-align: middle;\n",
       "    }\n",
       "\n",
       "    .dataframe tbody tr th {\n",
       "        vertical-align: top;\n",
       "    }\n",
       "\n",
       "    .dataframe thead th {\n",
       "        text-align: right;\n",
       "    }\n",
       "</style>\n",
       "<table border=\"1\" class=\"dataframe\">\n",
       "  <thead>\n",
       "    <tr style=\"text-align: right;\">\n",
       "      <th></th>\n",
       "      <th>Coeff</th>\n",
       "    </tr>\n",
       "  </thead>\n",
       "  <tbody>\n",
       "    <tr>\n",
       "      <th>acousticness</th>\n",
       "      <td>0.1990463482</td>\n",
       "    </tr>\n",
       "    <tr>\n",
       "      <th>danceability</th>\n",
       "      <td>-1.2102899337</td>\n",
       "    </tr>\n",
       "    <tr>\n",
       "      <th>duration_ms</th>\n",
       "      <td>0.0000002547</td>\n",
       "    </tr>\n",
       "    <tr>\n",
       "      <th>energy</th>\n",
       "      <td>-0.2270055940</td>\n",
       "    </tr>\n",
       "    <tr>\n",
       "      <th>instrumentalness</th>\n",
       "      <td>0.5866557989</td>\n",
       "    </tr>\n",
       "    <tr>\n",
       "      <th>key</th>\n",
       "      <td>0.0101375556</td>\n",
       "    </tr>\n",
       "    <tr>\n",
       "      <th>liveness</th>\n",
       "      <td>0.0013788012</td>\n",
       "    </tr>\n",
       "    <tr>\n",
       "      <th>loudness</th>\n",
       "      <td>-0.0268456344</td>\n",
       "    </tr>\n",
       "    <tr>\n",
       "      <th>mode</th>\n",
       "      <td>0.1134753422</td>\n",
       "    </tr>\n",
       "    <tr>\n",
       "      <th>speechiness</th>\n",
       "      <td>1.1305637304</td>\n",
       "    </tr>\n",
       "    <tr>\n",
       "      <th>tempo</th>\n",
       "      <td>0.0022099857</td>\n",
       "    </tr>\n",
       "    <tr>\n",
       "      <th>time_signature</th>\n",
       "      <td>-0.0600228282</td>\n",
       "    </tr>\n",
       "    <tr>\n",
       "      <th>valence</th>\n",
       "      <td>0.7895472768</td>\n",
       "    </tr>\n",
       "    <tr>\n",
       "      <th>popularity</th>\n",
       "      <td>0.0084898840</td>\n",
       "    </tr>\n",
       "  </tbody>\n",
       "</table>\n",
       "</div>"
      ],
      "text/plain": [
       "                         Coeff\n",
       "acousticness      0.1990463482\n",
       "danceability     -1.2102899337\n",
       "duration_ms       0.0000002547\n",
       "energy           -0.2270055940\n",
       "instrumentalness  0.5866557989\n",
       "key               0.0101375556\n",
       "liveness          0.0013788012\n",
       "loudness         -0.0268456344\n",
       "mode              0.1134753422\n",
       "speechiness       1.1305637304\n",
       "tempo             0.0022099857\n",
       "time_signature   -0.0600228282\n",
       "valence           0.7895472768\n",
       "popularity        0.0084898840"
      ]
     },
     "execution_count": 75,
     "metadata": {},
     "output_type": "execute_result"
    }
   ],
   "source": [
    "# suppress scientific notation\n",
    "pd.set_option('display.precision',10)\n",
    "\n",
    "# results: coefficients for each feature\n",
    "cdf = pd.DataFrame(lm.coef_[0], X.columns, columns=['Coeff'])\n",
    "cdf"
   ]
  },
  {
   "cell_type": "markdown",
   "metadata": {},
   "source": [
    "Many of the coefficients are actually pretty impactful, if we envison at least a 0.1 change in a review's rating to be significant to a critic/reader's perception of the album. Next step now is to check model validity."
   ]
  },
  {
   "cell_type": "markdown",
   "metadata": {},
   "source": [
    "#### Check model against test set"
   ]
  },
  {
   "cell_type": "code",
   "execution_count": 76,
   "metadata": {
    "scrolled": true
   },
   "outputs": [],
   "source": [
    "# generate predictions for test set, based on the model we just generated above\n",
    "predictions = lm.predict(X_test)"
   ]
  },
  {
   "cell_type": "code",
   "execution_count": 77,
   "metadata": {},
   "outputs": [
    {
     "name": "stdout",
     "output_type": "stream",
     "text": [
      "Mean absolute error:  0.9215430378044821\n",
      "Mean squared error:  1.546569823644831\n",
      "RMSE:  1.243611604820746\n"
     ]
    },
    {
     "data": {
      "image/png": "[encoded data removed]",
      "text/plain": [
       "<matplotlib.figure.Figure at 0x268ebb0a2e8>"
      ]
     },
     "metadata": {},
     "output_type": "display_data"
    }
   ],
   "source": [
    "g = sns.jointplot(y_test, predictions, kind='reg', joint_kws={'line_kws':{'color':'cyan'}, 'scatter_kws': {'alpha': 0.3}});\n",
    "g.fig.set_size_inches(13,5);\n",
    "plt.xlabel('actual');\n",
    "plt.ylabel('predicted');\n",
    "\n",
    "from sklearn import metrics\n",
    "\n",
    "print('Mean absolute error: ', metrics.mean_absolute_error(y_test, predictions))\n",
    "print('Mean squared error: ', metrics.mean_squared_error(y_test, predictions))\n",
    "print('RMSE: ', np.sqrt(metrics.mean_squared_error(y_test, predictions)))"
   ]
  },
  {
   "cell_type": "markdown",
   "metadata": {},
   "source": [
    "Relationship between predicted and actual values is significant (pval < 0.01) at R = 0.24."
   ]
  },
  {
   "cell_type": "markdown",
   "metadata": {},
   "source": [
    "#### Plot histogram of residuals"
   ]
  },
  {
   "cell_type": "code",
   "execution_count": 78,
   "metadata": {},
   "outputs": [
    {
     "data": {
      "image/png": "[encoded data removed]",
      "text/plain": [
       "<matplotlib.figure.Figure at 0x268ea5fe6a0>"
      ]
     },
     "metadata": {},
     "output_type": "display_data"
    }
   ],
   "source": [
    "sns.distplot((y_test-predictions));\n",
    "plt.xlabel('residual error');\n",
    "plt.ylabel('count');"
   ]
  },
  {
   "cell_type": "markdown",
   "metadata": {},
   "source": [
    "Residuals (actual minus predicted) has fairly normal-looking distribution, which is a good sign."
   ]
  },
  {
   "cell_type": "markdown",
   "metadata": {},
   "source": [
    "## 1.3 Discussion\n",
    "\n",
    "Now that we've demonstrated that the model produces significant audio feature predictors for album rating, how do we proceed?\n",
    "\n",
    "Recall that our ultimate goal is to determine some method of clustering music critics, whether it is along the music they tend to rate or audio features they prefer, both weighed by the rating they assign the corresponding albums. The next step is to assign a model for each critic that includes some combination, or all, of these parameters. The model aims to predict what the critic would have rated the album, based on these weighed parameters.\n",
    "\n",
    "Determining this combination of parameters for a critic model is complicated and will yield different residual errors. However, our results in this section 1 help guide a starting point - ex. perhaps begin by just including audio features w/ coeff >= |0.1|."
   ]
  },
  {
   "cell_type": "markdown",
   "metadata": {},
   "source": [
    "# 2. Test whether linear regression is suitable for music critic model\n",
    "----------------------\n",
    "Now we begin to test different types of modelling to see which is most suitable for our recommendation system."
   ]
  },
  {
   "cell_type": "code",
   "execution_count": 79,
   "metadata": {},
   "outputs": [
    {
     "data": {
      "text/html": [
       "<div>\n",
       "<style scoped>\n",
       "    .dataframe tbody tr th:only-of-type {\n",
       "        vertical-align: middle;\n",
       "    }\n",
       "\n",
       "    .dataframe tbody tr th {\n",
       "        vertical-align: top;\n",
       "    }\n",
       "\n",
       "    .dataframe thead th {\n",
       "        text-align: right;\n",
       "    }\n",
       "</style>\n",
       "<table border=\"1\" class=\"dataframe\">\n",
       "  <thead>\n",
       "    <tr style=\"text-align: right;\">\n",
       "      <th></th>\n",
       "      <th>acousticness</th>\n",
       "      <th>danceability</th>\n",
       "      <th>duration_ms</th>\n",
       "      <th>energy</th>\n",
       "      <th>instrumentalness</th>\n",
       "      <th>key</th>\n",
       "      <th>liveness</th>\n",
       "      <th>loudness</th>\n",
       "      <th>mode</th>\n",
       "      <th>speechiness</th>\n",
       "      <th>tempo</th>\n",
       "      <th>time_signature</th>\n",
       "      <th>valence</th>\n",
       "      <th>score</th>\n",
       "      <th>popularity</th>\n",
       "      <th>reviewid</th>\n",
       "    </tr>\n",
       "  </thead>\n",
       "  <tbody>\n",
       "    <tr>\n",
       "      <th>0</th>\n",
       "      <td>0.1027681818</td>\n",
       "      <td>0.6041818182</td>\n",
       "      <td>347475.1818181818</td>\n",
       "      <td>0.5367272727</td>\n",
       "      <td>0.6088181818</td>\n",
       "      <td>6.0000000000</td>\n",
       "      <td>0.1160272727</td>\n",
       "      <td>-11.0094545455</td>\n",
       "      <td>0.3636363636</td>\n",
       "      <td>0.0445545455</td>\n",
       "      <td>126.1810000000</td>\n",
       "      <td>4.0000000000</td>\n",
       "      <td>0.3600090909</td>\n",
       "      <td>9.3</td>\n",
       "      <td>61</td>\n",
       "      <td>22703</td>\n",
       "    </tr>\n",
       "    <tr>\n",
       "      <th>1</th>\n",
       "      <td>0.0000140200</td>\n",
       "      <td>0.1310000000</td>\n",
       "      <td>522000.0000000000</td>\n",
       "      <td>0.8670000000</td>\n",
       "      <td>0.7027500000</td>\n",
       "      <td>5.5000000000</td>\n",
       "      <td>0.3710000000</td>\n",
       "      <td>-10.0625000000</td>\n",
       "      <td>1.0000000000</td>\n",
       "      <td>0.0791000000</td>\n",
       "      <td>125.4172500000</td>\n",
       "      <td>3.7500000000</td>\n",
       "      <td>0.0974500000</td>\n",
       "      <td>7.9</td>\n",
       "      <td>8</td>\n",
       "      <td>22721</td>\n",
       "    </tr>\n",
       "    <tr>\n",
       "      <th>2</th>\n",
       "      <td>0.2398737250</td>\n",
       "      <td>0.4450000000</td>\n",
       "      <td>175396.3750000000</td>\n",
       "      <td>0.6752500000</td>\n",
       "      <td>0.2532515925</td>\n",
       "      <td>5.2500000000</td>\n",
       "      <td>0.1715750000</td>\n",
       "      <td>-7.4176250000</td>\n",
       "      <td>0.5000000000</td>\n",
       "      <td>0.2067625000</td>\n",
       "      <td>108.2242500000</td>\n",
       "      <td>3.8750000000</td>\n",
       "      <td>0.4981250000</td>\n",
       "      <td>7.3</td>\n",
       "      <td>25</td>\n",
       "      <td>22659</td>\n",
       "    </tr>\n",
       "    <tr>\n",
       "      <th>3</th>\n",
       "      <td>0.0177010429</td>\n",
       "      <td>0.5502857143</td>\n",
       "      <td>236645.7142857143</td>\n",
       "      <td>0.5588571429</td>\n",
       "      <td>0.6891142857</td>\n",
       "      <td>5.4285714286</td>\n",
       "      <td>0.3978571429</td>\n",
       "      <td>-11.0792857143</td>\n",
       "      <td>0.5714285714</td>\n",
       "      <td>0.1280571429</td>\n",
       "      <td>128.8520000000</td>\n",
       "      <td>4.1428571429</td>\n",
       "      <td>0.3672000000</td>\n",
       "      <td>8.1</td>\n",
       "      <td>11</td>\n",
       "      <td>22725</td>\n",
       "    </tr>\n",
       "    <tr>\n",
       "      <th>4</th>\n",
       "      <td>0.3421947826</td>\n",
       "      <td>0.6562608696</td>\n",
       "      <td>173682.9130434783</td>\n",
       "      <td>0.6576086957</td>\n",
       "      <td>0.0176078839</td>\n",
       "      <td>4.7826086957</td>\n",
       "      <td>0.2810782609</td>\n",
       "      <td>-6.1623913043</td>\n",
       "      <td>0.6086956522</td>\n",
       "      <td>0.2559086957</td>\n",
       "      <td>110.5818695652</td>\n",
       "      <td>3.7391304348</td>\n",
       "      <td>0.5176956522</td>\n",
       "      <td>7.4</td>\n",
       "      <td>56</td>\n",
       "      <td>22722</td>\n",
       "    </tr>\n",
       "  </tbody>\n",
       "</table>\n",
       "</div>"
      ],
      "text/plain": [
       "   acousticness  danceability        duration_ms        energy  \\\n",
       "0  0.1027681818  0.6041818182  347475.1818181818  0.5367272727   \n",
       "1  0.0000140200  0.1310000000  522000.0000000000  0.8670000000   \n",
       "2  0.2398737250  0.4450000000  175396.3750000000  0.6752500000   \n",
       "3  0.0177010429  0.5502857143  236645.7142857143  0.5588571429   \n",
       "4  0.3421947826  0.6562608696  173682.9130434783  0.6576086957   \n",
       "\n",
       "   instrumentalness           key      liveness       loudness          mode  \\\n",
       "0      0.6088181818  6.0000000000  0.1160272727 -11.0094545455  0.3636363636   \n",
       "1      0.7027500000  5.5000000000  0.3710000000 -10.0625000000  1.0000000000   \n",
       "2      0.2532515925  5.2500000000  0.1715750000  -7.4176250000  0.5000000000   \n",
       "3      0.6891142857  5.4285714286  0.3978571429 -11.0792857143  0.5714285714   \n",
       "4      0.0176078839  4.7826086957  0.2810782609  -6.1623913043  0.6086956522   \n",
       "\n",
       "    speechiness           tempo  time_signature       valence  score  \\\n",
       "0  0.0445545455  126.1810000000    4.0000000000  0.3600090909    9.3   \n",
       "1  0.0791000000  125.4172500000    3.7500000000  0.0974500000    7.9   \n",
       "2  0.2067625000  108.2242500000    3.8750000000  0.4981250000    7.3   \n",
       "3  0.1280571429  128.8520000000    4.1428571429  0.3672000000    8.1   \n",
       "4  0.2559086957  110.5818695652    3.7391304348  0.5176956522    7.4   \n",
       "\n",
       "   popularity  reviewid  \n",
       "0          61     22703  \n",
       "1           8     22721  \n",
       "2          25     22659  \n",
       "3          11     22725  \n",
       "4          56     22722  "
      ]
     },
     "execution_count": 79,
     "metadata": {},
     "output_type": "execute_result"
    }
   ],
   "source": [
    "# Adding Pitchfork reviewid to features dataframe for analysis\n",
    "df_features['reviewid'] = df_pitchfork_spotify['reviewid']\n",
    "df_features.head()"
   ]
  },
  {
   "cell_type": "code",
   "execution_count": 80,
   "metadata": {},
   "outputs": [],
   "source": [
    "df_features.to_pickle('df_features.pkl')"
   ]
  },
  {
   "cell_type": "markdown",
   "metadata": {},
   "source": [
    "#### Normalize features\n",
    "\n",
    "So that features w/ relatively much lower/higher scales don't distort the regression."
   ]
  },
  {
   "cell_type": "code",
   "execution_count": 81,
   "metadata": {},
   "outputs": [],
   "source": [
    "from sklearn import preprocessing\n",
    "\n",
    "df = df_features[['acousticness', 'danceability', 'duration_ms', 'energy', 'instrumentalness', 'key', \n",
    "                  'liveness', 'loudness', 'mode', 'speechiness', 'tempo', 'time_signature', 'valence', \n",
    "                  'popularity']]\n",
    "\n",
    "x = df.values\n",
    "min_max_scaler = preprocessing.MinMaxScaler()\n",
    "x_scaled = min_max_scaler.fit_transform(x)\n",
    "df2 = pd.DataFrame(x_scaled, columns=df.columns)\n",
    "\n",
    "df_features[['acousticness', 'danceability', 'duration_ms', 'energy', 'instrumentalness', 'key', \n",
    "             'liveness', 'loudness', 'mode', 'speechiness', 'tempo', 'time_signature', 'valence', \n",
    "             'popularity']] = df2"
   ]
  },
  {
   "cell_type": "markdown",
   "metadata": {},
   "source": [
    "## 2.1 Case study: start by testing 1 reviewer"
   ]
  },
  {
   "cell_type": "markdown",
   "metadata": {},
   "source": [
    "We want to determine whether it is possible to assign an accurate individual model to each critic, where the parameters are album features and predicted outcome is the rating they assigned to the album."
   ]
  },
  {
   "cell_type": "markdown",
   "metadata": {},
   "source": [
    "#### To start, we sample the first critic that appears in our authors/reviews database and attempt to model their rating. \n",
    "\n",
    "This critic, Aaron Leitko, happens to have 83 reviews - on the higher side of # reviews for a nice sample size."
   ]
  },
  {
   "cell_type": "code",
   "execution_count": 82,
   "metadata": {},
   "outputs": [
    {
     "data": {
      "text/plain": [
       "author_fullname                                           aaron leitko\n",
       "reviews              [21950, 21820, 21753, 21622, 21572, 21283, 213...\n",
       "num_reviews                                                         97\n",
       "years_experience                                                     9\n",
       "ratings_mean                                               7.197938144\n",
       "weighted_features    {21950: {'acousticness': 0.7706920094758397, '...\n",
       "Name: 0, dtype: object"
      ]
     },
     "execution_count": 82,
     "metadata": {},
     "output_type": "execute_result"
    }
   ],
   "source": [
    "# first row author's data ('aaron leitko'):\n",
    "\n",
    "row = df_authors_reviews.loc[0]\n",
    "author = row['author_fullname']\n",
    "reviews = row['reviews']\n",
    "r = 21950\n",
    "row"
   ]
  },
  {
   "cell_type": "markdown",
   "metadata": {},
   "source": [
    "#### Train linear regression model on the critic"
   ]
  },
  {
   "cell_type": "code",
   "execution_count": 83,
   "metadata": {},
   "outputs": [],
   "source": [
    "# make unique dataframe for critic, where each row = an album's features & the critic's rating\n",
    "\n",
    "df = df_features[df_features.reviewid.isin(reviews)] # compile all rows of author's reviews\n",
    "\n",
    "# list of all album features: audio track features & popularity, to feed to model\n",
    "X = df[['acousticness', 'danceability', 'duration_ms', 'energy', 'instrumentalness', 'key', 'liveness', \n",
    "        'loudness', 'mode', 'speechiness', 'tempo', 'time_signature', 'valence', 'popularity']]\n",
    "\n",
    "# what we want to predict: critic's album rating\n",
    "y = df['score'].values.reshape((len(df),1))\n",
    "\n",
    "# split data into train & test sets\n",
    "X_train, X_test, y_train, y_test = train_test_split(X, y, test_size=0.4, random_state=101)\n",
    "\n",
    "# linear fit to training set\n",
    "lm = LinearRegression() # create linear model object\n",
    "lm.fit(X_train, y_train)\n",
    "\n",
    "# produce correlation coefficients\n",
    "pd.set_option('display.precision',10)\n",
    "cdf = pd.DataFrame(lm.coef_[0], X.columns, columns=['Coeff'])"
   ]
  },
  {
   "cell_type": "markdown",
   "metadata": {},
   "source": [
    "#### Evaluate model performance"
   ]
  },
  {
   "cell_type": "code",
   "execution_count": 84,
   "metadata": {},
   "outputs": [
    {
     "data": {
      "image/png": "[encoded data removed]",
      "text/plain": [
       "<matplotlib.figure.Figure at 0x268eb9f2c88>"
      ]
     },
     "metadata": {},
     "output_type": "display_data"
    }
   ],
   "source": [
    "# generate predictions for test set, based on the model we just generated above\n",
    "predictions = lm.predict(X_test)\n",
    "\n",
    "g = sns.jointplot(y_test, predictions, kind='reg', joint_kws={'line_kws':{'color':'yellow'}, 'scatter_kws': {'alpha': 0.9}}, color='orange');\n",
    "plt.xlabel('actual');\n",
    "plt.ylabel('predicted');\n",
    "plt.figtext(1.05, 0.3, cdf);"
   ]
  },
  {
   "cell_type": "markdown",
   "metadata": {},
   "source": [
    "<i><b>Results:</b></i>\n",
    "- <b>Individual critic models are insufficient.</b> The model doesn't predict the critic's ratings very well, and neither do the actual vs. predicted ratings correlate very well (i.e. model isn't a statistically significant at predicting rating) - further indication of poor fit.\n",
    "<p>\n",
    "- <b>Neither do other models.</b> Additionally, doesn't look like a logistic regression or some other type of fit would work either.\n",
    "<p>\n",
    "- <b>Removing weak coeff doesn't work either.</b> Since this model incorporated all features irrespective of the strength of their coeff, we proceeded by removing the smaller corrcoef parameters to see if this improves the model (not shown here). However, the model still did a poor job of predicting actual ratings and lacking in statistical significance. "
   ]
  },
  {
   "cell_type": "markdown",
   "metadata": {},
   "source": [
    "## 2.2 Discussion\n",
    "\n",
    "We saw that implementing linear regression on an individual-critic basis was not sufficient to predict ratings.\n",
    "\n",
    "- <b>Insufficient sample size of reviews for each critic.</b> There probably needs to be a higher sample size for this critic to achieve statistical significance, if some relationship between album features and ratings can be drawn. However, this reviewer actually has 83 ratings, which is on the higher end compared to many other critics. Therefore, we probably can't expect statistical significance when performing linear regression modelling (on an indivdiual-critic basis) on the majority of critics.\n",
    "<p>\n",
    "- <b>Proceed with cluster analysis.</b> We should probably do a cluster analysis first - this might allow us to group critics together to increase review sample size."
   ]
  },
  {
   "cell_type": "markdown",
   "metadata": {},
   "source": [
    "# 3. Clustering critics - K Means Clustering\n",
    "----------------------\n",
    "Approach:\n",
    "1. Compile dataframe, where each row represents a critic and each column is the album feature's average, weighed by the rating the critic assigned the album.\n",
    "2. Cluster critics by weighed features."
   ]
  },
  {
   "cell_type": "code",
   "execution_count": 85,
   "metadata": {},
   "outputs": [],
   "source": [
    "from sklearn.cluster import KMeans\n",
    "from sklearn import preprocessing"
   ]
  },
  {
   "cell_type": "markdown",
   "metadata": {},
   "source": [
    "## 3.1 Data wrangling to set up Kmeans clustering"
   ]
  },
  {
   "cell_type": "markdown",
   "metadata": {},
   "source": [
    "#### Define function that will weigh the features for each album an author has rated. "
   ]
  },
  {
   "cell_type": "code",
   "execution_count": 86,
   "metadata": {
    "scrolled": true
   },
   "outputs": [],
   "source": [
    "def weight_features(df, author_fullname): # df argument must be a dataframe where each row = album\n",
    "\n",
    "    reviewid = df['reviewid']\n",
    "    score = df['score']\n",
    "    \n",
    "    # drop score, popularity, and reviewid to avoid confounding kmeans clustering\n",
    "    df = df.drop('score', axis=1)\n",
    "    df = df.drop('popularity', axis=1)\n",
    "    df = df.drop('reviewid', axis=1)\n",
    "    \n",
    "    # multiply each feature by the critic's rating\n",
    "    df_weighted = df.multiply(score.values, axis=0)\n",
    "    df_weighted.index = reviewid\n",
    "\n",
    "    # store dataframe in dict\n",
    "    dict_weighted = df_weighted.to_dict(orient='index')\n",
    "\n",
    "    # average weighted features\n",
    "    dict_weighted_mean = {author: pd.DataFrame(df_weighted.mean()).transpose()}\n",
    "    \n",
    "    return dict_weighted, dict_weighted_mean"
   ]
  },
  {
   "cell_type": "markdown",
   "metadata": {},
   "source": [
    "#### Generate dataframe ('df_kmeans') that compiles the average of critics' album features, weighed by their rating to it."
   ]
  },
  {
   "cell_type": "code",
   "execution_count": 87,
   "metadata": {},
   "outputs": [
    {
     "data": {
      "text/html": [
       "<div>\n",
       "<style scoped>\n",
       "    .dataframe tbody tr th:only-of-type {\n",
       "        vertical-align: middle;\n",
       "    }\n",
       "\n",
       "    .dataframe tbody tr th {\n",
       "        vertical-align: top;\n",
       "    }\n",
       "\n",
       "    .dataframe thead th {\n",
       "        text-align: right;\n",
       "    }\n",
       "</style>\n",
       "<table border=\"1\" class=\"dataframe\">\n",
       "  <thead>\n",
       "    <tr style=\"text-align: right;\">\n",
       "      <th></th>\n",
       "      <th>acousticness</th>\n",
       "      <th>danceability</th>\n",
       "      <th>duration_ms</th>\n",
       "      <th>energy</th>\n",
       "      <th>instrumentalness</th>\n",
       "      <th>key</th>\n",
       "      <th>liveness</th>\n",
       "      <th>loudness</th>\n",
       "      <th>mode</th>\n",
       "      <th>speechiness</th>\n",
       "      <th>tempo</th>\n",
       "      <th>time_signature</th>\n",
       "      <th>valence</th>\n",
       "    </tr>\n",
       "    <tr>\n",
       "      <th>author_fullname</th>\n",
       "      <th></th>\n",
       "      <th></th>\n",
       "      <th></th>\n",
       "      <th></th>\n",
       "      <th></th>\n",
       "      <th></th>\n",
       "      <th></th>\n",
       "      <th></th>\n",
       "      <th></th>\n",
       "      <th></th>\n",
       "      <th></th>\n",
       "      <th></th>\n",
       "      <th></th>\n",
       "    </tr>\n",
       "  </thead>\n",
       "  <tbody>\n",
       "    <tr>\n",
       "      <th>aaron leitko</th>\n",
       "      <td>1.7663100768</td>\n",
       "      <td>2.7239289792</td>\n",
       "      <td>0.4380054298</td>\n",
       "      <td>4.8143947997</td>\n",
       "      <td>3.6469420755</td>\n",
       "      <td>3.4594752437</td>\n",
       "      <td>1.3227202015</td>\n",
       "      <td>5.6306407768</td>\n",
       "      <td>5.1378713133</td>\n",
       "      <td>0.3225992420</td>\n",
       "      <td>3.4506944130</td>\n",
       "      <td>5.0852732049</td>\n",
       "      <td>2.8349617526</td>\n",
       "    </tr>\n",
       "    <tr>\n",
       "      <th>abigail covington</th>\n",
       "      <td>1.4951118364</td>\n",
       "      <td>4.5360173469</td>\n",
       "      <td>0.3154418588</td>\n",
       "      <td>4.3567193344</td>\n",
       "      <td>0.0626842169</td>\n",
       "      <td>3.6649783550</td>\n",
       "      <td>1.3568244620</td>\n",
       "      <td>5.7701599203</td>\n",
       "      <td>3.6304761905</td>\n",
       "      <td>1.4365050169</td>\n",
       "      <td>2.8159083971</td>\n",
       "      <td>5.0975000000</td>\n",
       "      <td>3.6847003832</td>\n",
       "    </tr>\n",
       "    <tr>\n",
       "      <th>abigail garnett</th>\n",
       "      <td>1.1339904909</td>\n",
       "      <td>5.0404854225</td>\n",
       "      <td>0.4836792834</td>\n",
       "      <td>4.8605728242</td>\n",
       "      <td>4.7636920511</td>\n",
       "      <td>3.5671690935</td>\n",
       "      <td>0.7229501287</td>\n",
       "      <td>5.4236979620</td>\n",
       "      <td>4.2677669553</td>\n",
       "      <td>0.2872338269</td>\n",
       "      <td>3.3146946336</td>\n",
       "      <td>5.1918551587</td>\n",
       "      <td>3.7490541335</td>\n",
       "    </tr>\n",
       "    <tr>\n",
       "      <th>adam dlugacz</th>\n",
       "      <td>0.0012127985</td>\n",
       "      <td>2.0102734596</td>\n",
       "      <td>0.2351180050</td>\n",
       "      <td>5.2985298573</td>\n",
       "      <td>0.4313224214</td>\n",
       "      <td>2.4230769231</td>\n",
       "      <td>2.0638801090</td>\n",
       "      <td>5.4037899891</td>\n",
       "      <td>4.8461538462</td>\n",
       "      <td>0.1949768670</td>\n",
       "      <td>3.6321965228</td>\n",
       "      <td>4.7250000000</td>\n",
       "      <td>2.5469475417</td>\n",
       "    </tr>\n",
       "    <tr>\n",
       "      <th>adam moerder</th>\n",
       "      <td>1.2528502263</td>\n",
       "      <td>2.8514575058</td>\n",
       "      <td>0.2769794397</td>\n",
       "      <td>4.2210098867</td>\n",
       "      <td>1.5580908162</td>\n",
       "      <td>2.9556970657</td>\n",
       "      <td>0.9947820804</td>\n",
       "      <td>4.9632705169</td>\n",
       "      <td>4.1546743725</td>\n",
       "      <td>0.2922627678</td>\n",
       "      <td>3.0369497445</td>\n",
       "      <td>4.3824467362</td>\n",
       "      <td>2.8337192757</td>\n",
       "    </tr>\n",
       "  </tbody>\n",
       "</table>\n",
       "</div>"
      ],
      "text/plain": [
       "                   acousticness  danceability   duration_ms        energy  \\\n",
       "author_fullname                                                             \n",
       "aaron leitko       1.7663100768  2.7239289792  0.4380054298  4.8143947997   \n",
       "abigail covington  1.4951118364  4.5360173469  0.3154418588  4.3567193344   \n",
       "abigail garnett    1.1339904909  5.0404854225  0.4836792834  4.8605728242   \n",
       "adam dlugacz       0.0012127985  2.0102734596  0.2351180050  5.2985298573   \n",
       "adam moerder       1.2528502263  2.8514575058  0.2769794397  4.2210098867   \n",
       "\n",
       "                   instrumentalness           key      liveness      loudness  \\\n",
       "author_fullname                                                                 \n",
       "aaron leitko           3.6469420755  3.4594752437  1.3227202015  5.6306407768   \n",
       "abigail covington      0.0626842169  3.6649783550  1.3568244620  5.7701599203   \n",
       "abigail garnett        4.7636920511  3.5671690935  0.7229501287  5.4236979620   \n",
       "adam dlugacz           0.4313224214  2.4230769231  2.0638801090  5.4037899891   \n",
       "adam moerder           1.5580908162  2.9556970657  0.9947820804  4.9632705169   \n",
       "\n",
       "                           mode   speechiness         tempo  time_signature  \\\n",
       "author_fullname                                                               \n",
       "aaron leitko       5.1378713133  0.3225992420  3.4506944130    5.0852732049   \n",
       "abigail covington  3.6304761905  1.4365050169  2.8159083971    5.0975000000   \n",
       "abigail garnett    4.2677669553  0.2872338269  3.3146946336    5.1918551587   \n",
       "adam dlugacz       4.8461538462  0.1949768670  3.6321965228    4.7250000000   \n",
       "adam moerder       4.1546743725  0.2922627678  3.0369497445    4.3824467362   \n",
       "\n",
       "                        valence  \n",
       "author_fullname                  \n",
       "aaron leitko       2.8349617526  \n",
       "abigail covington  3.6847003832  \n",
       "abigail garnett    3.7490541335  \n",
       "adam dlugacz       2.5469475417  \n",
       "adam moerder       2.8337192757  "
      ]
     },
     "execution_count": 87,
     "metadata": {},
     "output_type": "execute_result"
    }
   ],
   "source": [
    "df_kmeans = pd.DataFrame()\n",
    "list_df_weighted = []\n",
    "\n",
    "for index, row in df_authors_reviews.iterrows():\n",
    "\n",
    "    reviews = row['reviews']\n",
    "    author = row['author_fullname']\n",
    "    \n",
    "    # compile dataframe of album features of all the author's reviews\n",
    "    df_author = None\n",
    "    for r_id in reviews:\n",
    "        if df_author is None: # initialize dataframe\n",
    "            df_author = df_features[df_features['reviewid']==r_id]\n",
    "        else:\n",
    "            df_author = df_author.append(pd.DataFrame(df_features[df_features['reviewid']==r_id]))\n",
    "    \n",
    "    if df_author.empty:\n",
    "        df_kmeans = pd.concat([df_kmeans, pd.DataFrame(np.full((1,len(df_kmeans.columns)), np.nan), columns=df_kmeans.columns)])\n",
    "        list_df_weighted.append(np.nan)\n",
    "        continue # continue if author's reviews have no features (i.e. Spotify didn't have data for it)\n",
    "                               \n",
    "    # weigh features\n",
    "    dict_weighted, dict_weighted_mean = weight_features(df_author, author)\n",
    "\n",
    "    # replace placeholder w/ normed features dataframe (converted to dict for storage)\n",
    "    if df_kmeans.empty: # initialize dataframe \n",
    "        df_kmeans = dict_weighted_mean[author]\n",
    "    else:\n",
    "        df_kmeans = pd.concat([df_kmeans, dict_weighted_mean[author]])\n",
    "    \n",
    "    # save weighted features to append to authors/reviews dataframe for later use\n",
    "    list_df_weighted.append(dict_weighted)\n",
    "\n",
    "        \n",
    "df_kmeans = df_kmeans.set_index(df_authors_reviews['author_fullname']) # index new features dataframe by author\n",
    "df_kmeans.head()"
   ]
  },
  {
   "cell_type": "code",
   "execution_count": 88,
   "metadata": {},
   "outputs": [
    {
     "data": {
      "text/html": [
       "<div>\n",
       "<style scoped>\n",
       "    .dataframe tbody tr th:only-of-type {\n",
       "        vertical-align: middle;\n",
       "    }\n",
       "\n",
       "    .dataframe tbody tr th {\n",
       "        vertical-align: top;\n",
       "    }\n",
       "\n",
       "    .dataframe thead th {\n",
       "        text-align: right;\n",
       "    }\n",
       "</style>\n",
       "<table border=\"1\" class=\"dataframe\">\n",
       "  <thead>\n",
       "    <tr style=\"text-align: right;\">\n",
       "      <th></th>\n",
       "      <th>author_fullname</th>\n",
       "      <th>reviews</th>\n",
       "      <th>num_reviews</th>\n",
       "      <th>years_experience</th>\n",
       "      <th>ratings_mean</th>\n",
       "      <th>weighted_features</th>\n",
       "    </tr>\n",
       "  </thead>\n",
       "  <tbody>\n",
       "    <tr>\n",
       "      <th>0</th>\n",
       "      <td>aaron leitko</td>\n",
       "      <td>[21950, 21820, 21753, 21622, 21572, 21283, 213...</td>\n",
       "      <td>97</td>\n",
       "      <td>9</td>\n",
       "      <td>7.1979381443</td>\n",
       "      <td>{21950: {'acousticness': 0.7706920094758397, '...</td>\n",
       "    </tr>\n",
       "    <tr>\n",
       "      <th>1</th>\n",
       "      <td>abigail covington</td>\n",
       "      <td>[22138, 21544]</td>\n",
       "      <td>2</td>\n",
       "      <td>0</td>\n",
       "      <td>7.0500000000</td>\n",
       "      <td>{22138: {'acousticness': 0.5443133695435528, '...</td>\n",
       "    </tr>\n",
       "    <tr>\n",
       "      <th>2</th>\n",
       "      <td>abigail garnett</td>\n",
       "      <td>[21050, 20968, 20694, 20570, 20405, 20134, 199...</td>\n",
       "      <td>9</td>\n",
       "      <td>1</td>\n",
       "      <td>7.0888888889</td>\n",
       "      <td>{21050: {'acousticness': 2.1077528288718304, '...</td>\n",
       "    </tr>\n",
       "    <tr>\n",
       "      <th>3</th>\n",
       "      <td>adam dlugacz</td>\n",
       "      <td>[6794]</td>\n",
       "      <td>1</td>\n",
       "      <td>0</td>\n",
       "      <td>6.3000000000</td>\n",
       "      <td>{6794: {'acousticness': 0.001212798478865301, ...</td>\n",
       "    </tr>\n",
       "    <tr>\n",
       "      <th>4</th>\n",
       "      <td>adam moerder</td>\n",
       "      <td>[13207, 13007, 12956, 12939, 12861, 12673, 126...</td>\n",
       "      <td>209</td>\n",
       "      <td>4</td>\n",
       "      <td>6.1516746411</td>\n",
       "      <td>{13207: {'acousticness': 0.3490780776030364, '...</td>\n",
       "    </tr>\n",
       "  </tbody>\n",
       "</table>\n",
       "</div>"
      ],
      "text/plain": [
       "     author_fullname                                            reviews  \\\n",
       "0       aaron leitko  [21950, 21820, 21753, 21622, 21572, 21283, 213...   \n",
       "1  abigail covington                                     [22138, 21544]   \n",
       "2    abigail garnett  [21050, 20968, 20694, 20570, 20405, 20134, 199...   \n",
       "3       adam dlugacz                                             [6794]   \n",
       "4       adam moerder  [13207, 13007, 12956, 12939, 12861, 12673, 126...   \n",
       "\n",
       "   num_reviews  years_experience  ratings_mean  \\\n",
       "0           97                 9  7.1979381443   \n",
       "1            2                 0  7.0500000000   \n",
       "2            9                 1  7.0888888889   \n",
       "3            1                 0  6.3000000000   \n",
       "4          209                 4  6.1516746411   \n",
       "\n",
       "                                   weighted_features  \n",
       "0  {21950: {'acousticness': 0.7706920094758397, '...  \n",
       "1  {22138: {'acousticness': 0.5443133695435528, '...  \n",
       "2  {21050: {'acousticness': 2.1077528288718304, '...  \n",
       "3  {6794: {'acousticness': 0.001212798478865301, ...  \n",
       "4  {13207: {'acousticness': 0.3490780776030364, '...  "
      ]
     },
     "execution_count": 88,
     "metadata": {},
     "output_type": "execute_result"
    }
   ],
   "source": [
    "# append weighted features to author entry in authors/reviews dataset\n",
    "df_authors_reviews['weighted_features'] = list_df_weighted\n",
    "df_authors_reviews.head()"
   ]
  },
  {
   "cell_type": "markdown",
   "metadata": {},
   "source": [
    "##### Pickle dataframes"
   ]
  },
  {
   "cell_type": "code",
   "execution_count": 89,
   "metadata": {},
   "outputs": [],
   "source": [
    "# Updating Pickled 'df_authors_reviews' w/ new data\n",
    "df_authors_reviews.to_pickle('df_authors_reviews.pkl')\n",
    "\n",
    "# Saving new pickle: more convenient lookup table of critics' weighted scores\n",
    "df_kmeans.to_pickle('df_kmeans.pkl')"
   ]
  },
  {
   "cell_type": "markdown",
   "metadata": {},
   "source": [
    "## 3.2 Exploratory data analysis (EDA) to determine cluster size\n",
    "\n",
    "In order to determine cluster size and adjust other parameters in our kmeans clustering, we do some exploratory data analysis and wrangling first. Here, we take a score-weighted approach: score-weighted features refers to multiplying normalized features by their album's score."
   ]
  },
  {
   "cell_type": "markdown",
   "metadata": {},
   "source": [
    "#### Perform elbow method of determining a good # of clusters\n",
    "\n",
    "The elbow method involves plotting SSE (sum squared errors) for progressively larger number of clusters (k) specified to the algorithm and then picking a k where SSE decreases abruptly. The idea is that SSE decreases as k gets larger, and at some point the marginal return of higher k is not worth increasing k further."
   ]
  },
  {
   "cell_type": "markdown",
   "metadata": {},
   "source": [
    "<i>Analyze a ton of cluster sizes:</i>"
   ]
  },
  {
   "cell_type": "code",
   "execution_count": 90,
   "metadata": {},
   "outputs": [],
   "source": [
    "inertia1 = []\n",
    "for i in range(1,100):\n",
    "    n_clusters = i\n",
    "    df = df_kmeans[np.isfinite(df_kmeans['acousticness'])]\n",
    "    kmeans = KMeans(n_clusters).fit(df)\n",
    "    inertia1.append(kmeans.inertia_)"
   ]
  },
  {
   "cell_type": "markdown",
   "metadata": {},
   "source": [
    "<i>Then proceed w/ zooming into a promising range of sizes:</i>"
   ]
  },
  {
   "cell_type": "code",
   "execution_count": 91,
   "metadata": {},
   "outputs": [],
   "source": [
    "inertia2 = []\n",
    "for i in range(1,18):\n",
    "    n_clusters = i\n",
    "    df = df_kmeans[np.isfinite(df_kmeans['acousticness'])]\n",
    "    kmeans = KMeans(n_clusters).fit(df)\n",
    "    inertia2.append(kmeans.inertia_)"
   ]
  },
  {
   "cell_type": "markdown",
   "metadata": {},
   "source": [
    "<i>Plot to visualize the \"elbow\"</i>"
   ]
  },
  {
   "cell_type": "code",
   "execution_count": 95,
   "metadata": {},
   "outputs": [
    {
     "data": {
      "image/png": "[encoded data removed]",
      "text/plain": [
       "<matplotlib.figure.Figure at 0x268eb8c4a20>"
      ]
     },
     "metadata": {},
     "output_type": "display_data"
    }
   ],
   "source": [
    "fig, (ax1, ax2) = plt.subplots(nrows=1, ncols=2, figsize=(14,5))\n",
    "\n",
    "# fig 1: plotting SSE's for cluster sizes 1-100\n",
    "ax1.plot(inertia1);\n",
    "ax1.set_xlabel('cluster size', fontsize=12)\n",
    "ax1.set_ylabel('SSE', fontsize=12)\n",
    "ax1.set_title('Cluster sizes: 1 - 100', fontsize=14)\n",
    "\n",
    "# fig 1: zooming in to SSE's vs. cluster sizes 1-17\n",
    "ax2.plot(inertia2);\n",
    "ax2.set_xlabel('cluster sizes', fontsize=12)\n",
    "ax2.set_ylabel('SSE', fontsize=12)\n",
    "ax2.set_title('Cluster size: 1 - 17', fontsize=14)\n",
    "\n",
    "# annotating fig 2 w/ slope sizes\n",
    "ax2.annotate('559.4', xy=(1,3185.9), xytext=(1, 3185.9), arrowprops=dict(facecolor='black', shrink=0.05));\n",
    "ax2.annotate('380.7', xy=(2,2626), xytext=(2, 2626), arrowprops=dict(facecolor='black', shrink=0.05));\n",
    "ax2.annotate('157.9', xy=(5,1900), xytext=(5, 1900), arrowprops=dict(facecolor='black', shrink=0.05));\n",
    "ax2.annotate('83.3', xy=(10,1480), xytext=(10, 1480), arrowprops=dict(facecolor='black', shrink=0.05));\n",
    "ax2.annotate('28.0', xy=(15,1200), xytext=(15, 1500), arrowprops=dict(facecolor='black', shrink=0.05));\n",
    "ax2.annotate('16.8', xy=(16,1270), xytext=(16, 1270), arrowprops=dict(facecolor='black', shrink=0.05));"
   ]
  },
  {
   "cell_type": "markdown",
   "metadata": {},
   "source": [
    "It seems that > 15 clusters is not worth the tradeoff of too many clusters (which will reduce train/test dataset sizes for testing cluster accuracy), based on plateauing SSE. Particularly since > 15 clusters will tend to cause an error in the clustering algorithm, where some clusters are empty (EDA not shown here).\n",
    "\n",
    "So we set our upper cluster size limit to 15 and proceed w/ examining correlations & p-values for each cluster size in the next section."
   ]
  },
  {
   "cell_type": "markdown",
   "metadata": {},
   "source": [
    "## 3.3 EDA to determine cluster quality\n",
    "\n",
    "Elbow method will visualize SSE, but no matter how good any stats are, if our actual vs. predicted ratings isn't accurate, our model won't be useful for generating a recommendation engine. \n",
    "\n",
    "So we proceed by examining p-value, Pearson's R, and slope of linear regression to see how the clusters under k cluster size-specifications perform."
   ]
  },
  {
   "cell_type": "markdown",
   "metadata": {},
   "source": [
    "#### <i> Optional: load a specific kmeans run\n",
    "    \n",
    "Loading saved output from a kmeans run, which is referenced in the examples following kmeans clustering below. If loading this kmeans run, skip next step of implementing kmeans clustering, which will generate a different dataset from the one that will be referred to in discussions below."
   ]
  },
  {
   "cell_type": "code",
   "execution_count": 96,
   "metadata": {},
   "outputs": [],
   "source": [
    "# Loading a specific kmeans run, where random state = 94\n",
    "with open('objs.pkl','rb') as f:  # Python 3: open(..., 'rb')\n",
    "    df_kmeans2, cdf, y_test, prediction, slope, r_value, p_value, size, author = pickle.load(f)"
   ]
  },
  {
   "cell_type": "markdown",
   "metadata": {},
   "source": [
    "#### Define some functions"
   ]
  },
  {
   "cell_type": "code",
   "execution_count": 97,
   "metadata": {},
   "outputs": [],
   "source": [
    "# function: return reviewids of all critics belonging to the cluster\n",
    "\n",
    "def cluster_reviews(cluster_num):\n",
    "    \n",
    "    df = df_kmeans2[df_kmeans2['cluster']==cluster_num]\n",
    "    authors = df.index\n",
    "    \n",
    "    reviewids = []\n",
    "    for a in authors:\n",
    "        reviews = df_authors_reviews[df_authors_reviews['author_fullname']==a]['reviews']\n",
    "        reviews = list(reviews)[0]\n",
    "        reviewids.extend(reviews)\n",
    "        \n",
    "    return reviewids"
   ]
  },
  {
   "cell_type": "code",
   "execution_count": 98,
   "metadata": {},
   "outputs": [],
   "source": [
    "# function: take all reviews belonging to cluster, generate linear model prediction for rating, plot predicted vs. actual rating\n",
    "\n",
    "def cluster_examine(cluster_num, features): # features must be a list\n",
    "    \n",
    "    # extract reviews belonging to cluster\n",
    "    reviewids = cluster_reviews(cluster_num) # list of all reviews belonging to cluster\n",
    "    df = df_features[df_features['reviewid'].isin(reviewids)] # features of all these reviews\n",
    "    size = len(df)\n",
    "    \n",
    "    # extract authors belonging to cluster\n",
    "    df2 = df_pitchfork[df_pitchfork['reviewid'].isin(reviewids)]\n",
    "    author = df2['author'].unique()\n",
    "    \n",
    "    # set features we want in model\n",
    "    X = df[features]\n",
    "    \n",
    "    # train model\n",
    "    y = df['score'].values.reshape((len(df),1))\n",
    "    X_train, X_test, y_train, y_test = train_test_split(X, y, test_size=0.3, random_state=101)\n",
    "    lm = LinearRegression() # create linear model object\n",
    "    lm.fit(X_train, y_train) # fit linear regression model to data\n",
    "    pd.set_option('display.precision',10)\n",
    "    cdf = pd.DataFrame(lm.coef_[0], X.columns, columns=['Coeff']) # table of parameter coefficients\n",
    "\n",
    "    # generate predictions for test set, based on the model we just generated above\n",
    "    prediction = lm.predict(X_test)\n",
    "    \n",
    "    # scipy linregress\n",
    "    slope, intercept, r_value, p_value, std_err = stats.linregress(y_test[:,0], prediction[:,0])\n",
    "    \n",
    "    return cdf, X_train, X_test, y_train, y_test, prediction, slope, r_value, p_value, size, author"
   ]
  },
  {
   "cell_type": "markdown",
   "metadata": {},
   "source": [
    "#### Perform kmeans clustering\n",
    "\n",
    "From manually implementing different cluster sizes (k), it seems k > 13 are much more likely to yield error w/ cluster size 0's. So we use k=12 here."
   ]
  },
  {
   "cell_type": "code",
   "execution_count": 99,
   "metadata": {
    "scrolled": true
   },
   "outputs": [
    {
     "name": "stderr",
     "output_type": "stream",
     "text": [
      "c:\\users\\diana\\appdata\\local\\programs\\python\\python36\\lib\\site-packages\\ipykernel_launcher.py:12: SettingWithCopyWarning: \n",
      "A value is trying to be set on a copy of a slice from a DataFrame.\n",
      "Try using .loc[row_indexer,col_indexer] = value instead\n",
      "\n",
      "See the caveats in the documentation: http://pandas.pydata.org/pandas-docs/stable/indexing.html#indexing-view-versus-copy\n",
      "  if sys.path[0] == '':\n"
     ]
    }
   ],
   "source": [
    "# Remove NaN's from data\n",
    "df_kmeans2 = df_kmeans[np.isfinite(df_kmeans['acousticness'])]\n",
    "\n",
    "# do kmeans clustering\n",
    "n_clusters = 12 # specify number of clusters\n",
    "kmeans = KMeans(n_clusters, random_state=94).fit(df_kmeans2)\n",
    "labels = kmeans.labels_\n",
    "inertia = kmeans.inertia_\n",
    "\n",
    "# append cluster info to data\n",
    "# df_kmeans2['cluster'] = 1 # placeholder\n",
    "df_kmeans2['cluster'] = labels # replace w/ cluster label"
   ]
  },
  {
   "cell_type": "markdown",
   "metadata": {},
   "source": [
    "#### Compile info on each cluster"
   ]
  },
  {
   "cell_type": "code",
   "execution_count": 102,
   "metadata": {},
   "outputs": [
    {
     "data": {
      "text/html": [
       "<div>\n",
       "<style scoped>\n",
       "    .dataframe tbody tr th:only-of-type {\n",
       "        vertical-align: middle;\n",
       "    }\n",
       "\n",
       "    .dataframe tbody tr th {\n",
       "        vertical-align: top;\n",
       "    }\n",
       "\n",
       "    .dataframe thead th {\n",
       "        text-align: right;\n",
       "    }\n",
       "</style>\n",
       "<table border=\"1\" class=\"dataframe\">\n",
       "  <thead>\n",
       "    <tr style=\"text-align: right;\">\n",
       "      <th></th>\n",
       "      <th>p_values</th>\n",
       "      <th>r_values</th>\n",
       "      <th>size_authors</th>\n",
       "      <th>size_reviews</th>\n",
       "      <th>slopes</th>\n",
       "    </tr>\n",
       "  </thead>\n",
       "  <tbody>\n",
       "    <tr>\n",
       "      <th>0</th>\n",
       "      <td>9.9186979577e-01</td>\n",
       "      <td>-0.0033037501</td>\n",
       "      <td>11</td>\n",
       "      <td>40</td>\n",
       "      <td>-0.0065873954</td>\n",
       "    </tr>\n",
       "    <tr>\n",
       "      <th>1</th>\n",
       "      <td>1.0961503288e-08</td>\n",
       "      <td>0.2203074409</td>\n",
       "      <td>35</td>\n",
       "      <td>2195</td>\n",
       "      <td>0.0677401385</td>\n",
       "    </tr>\n",
       "    <tr>\n",
       "      <th>2</th>\n",
       "      <td>1.2286249603e-16</td>\n",
       "      <td>0.2351344512</td>\n",
       "      <td>90</td>\n",
       "      <td>4024</td>\n",
       "      <td>0.0520472717</td>\n",
       "    </tr>\n",
       "    <tr>\n",
       "      <th>3</th>\n",
       "      <td>4.6494382414e-05</td>\n",
       "      <td>0.5526072579</td>\n",
       "      <td>18</td>\n",
       "      <td>158</td>\n",
       "      <td>0.2417603133</td>\n",
       "    </tr>\n",
       "    <tr>\n",
       "      <th>4</th>\n",
       "      <td>8.3266383494e-11</td>\n",
       "      <td>0.2121965041</td>\n",
       "      <td>62</td>\n",
       "      <td>3060</td>\n",
       "      <td>0.0434454902</td>\n",
       "    </tr>\n",
       "    <tr>\n",
       "      <th>5</th>\n",
       "      <td>3.7625967813e-03</td>\n",
       "      <td>0.1542756227</td>\n",
       "      <td>58</td>\n",
       "      <td>1169</td>\n",
       "      <td>0.0276925561</td>\n",
       "    </tr>\n",
       "    <tr>\n",
       "      <th>6</th>\n",
       "      <td>6.2213013177e-01</td>\n",
       "      <td>0.1587631865</td>\n",
       "      <td>13</td>\n",
       "      <td>37</td>\n",
       "      <td>0.1508761660</td>\n",
       "    </tr>\n",
       "    <tr>\n",
       "      <th>7</th>\n",
       "      <td>1.3779421166e-06</td>\n",
       "      <td>0.2863349274</td>\n",
       "      <td>32</td>\n",
       "      <td>914</td>\n",
       "      <td>0.0697689959</td>\n",
       "    </tr>\n",
       "    <tr>\n",
       "      <th>8</th>\n",
       "      <td>0.0000000000e+00</td>\n",
       "      <td>-1.0000000000</td>\n",
       "      <td>4</td>\n",
       "      <td>4</td>\n",
       "      <td>-1.5457497853</td>\n",
       "    </tr>\n",
       "    <tr>\n",
       "      <th>9</th>\n",
       "      <td>7.8876904215e-02</td>\n",
       "      <td>-0.9923342646</td>\n",
       "      <td>7</td>\n",
       "      <td>10</td>\n",
       "      <td>-0.9382789959</td>\n",
       "    </tr>\n",
       "    <tr>\n",
       "      <th>10</th>\n",
       "      <td>3.9078892637e-01</td>\n",
       "      <td>0.1520056412</td>\n",
       "      <td>19</td>\n",
       "      <td>111</td>\n",
       "      <td>0.1353699338</td>\n",
       "    </tr>\n",
       "    <tr>\n",
       "      <th>11</th>\n",
       "      <td>2.1366420778e-05</td>\n",
       "      <td>0.1787114853</td>\n",
       "      <td>63</td>\n",
       "      <td>1863</td>\n",
       "      <td>0.0455439341</td>\n",
       "    </tr>\n",
       "  </tbody>\n",
       "</table>\n",
       "</div>"
      ],
      "text/plain": [
       "            p_values      r_values  size_authors  size_reviews        slopes\n",
       "0   9.9186979577e-01 -0.0033037501            11            40 -0.0065873954\n",
       "1   1.0961503288e-08  0.2203074409            35          2195  0.0677401385\n",
       "2   1.2286249603e-16  0.2351344512            90          4024  0.0520472717\n",
       "3   4.6494382414e-05  0.5526072579            18           158  0.2417603133\n",
       "4   8.3266383494e-11  0.2121965041            62          3060  0.0434454902\n",
       "5   3.7625967813e-03  0.1542756227            58          1169  0.0276925561\n",
       "6   6.2213013177e-01  0.1587631865            13            37  0.1508761660\n",
       "7   1.3779421166e-06  0.2863349274            32           914  0.0697689959\n",
       "8   0.0000000000e+00 -1.0000000000             4             4 -1.5457497853\n",
       "9   7.8876904215e-02 -0.9923342646             7            10 -0.9382789959\n",
       "10  3.9078892637e-01  0.1520056412            19           111  0.1353699338\n",
       "11  2.1366420778e-05  0.1787114853            63          1863  0.0455439341"
      ]
     },
     "execution_count": 102,
     "metadata": {},
     "output_type": "execute_result"
    }
   ],
   "source": [
    "cdfs=[]; y_tests=[]; predictions=[]; slopes=[]; r_values=[]; p_values=[]; sizes=[]; authors=[]; size_authors=[]\n",
    "n_clusters = 12\n",
    "\n",
    "for cluster_num in range(n_clusters): # recall 'n_clusters' = max # of clusters we specified to kmeans algorithm\n",
    "    \n",
    "    # set desired features (default = all)\n",
    "    features = ['acousticness', 'danceability', 'duration_ms', 'energy', 'instrumentalness', \n",
    "                'key', 'liveness', 'loudness', 'mode', 'speechiness', 'tempo', 'time_signature', \n",
    "                'valence', 'popularity']\n",
    "    \n",
    "    # fit linear model\n",
    "    cdf, X_train, X_test, y_train, y_test, prediction, slope, r_value, p_value, size, author = cluster_examine(cluster_num, features)\n",
    "    \n",
    "    # store results\n",
    "    cdfs.append(cdf)\n",
    "    y_tests.append(y_test)\n",
    "    predictions.append(prediction)\n",
    "    slopes.append(slope)\n",
    "    r_values.append(r_value)\n",
    "    p_values.append(p_value)\n",
    "    sizes.append(size)\n",
    "    authors.append(author)\n",
    "    size_authors.append(len(author))\n",
    "\n",
    "# produce table of a few selected stats (pval, r, cluster size, slope)\n",
    "pd.DataFrame({'slopes':slopes, 'r_values': r_values, 'p_values':p_values, 'size_reviews':sizes, 'size_authors':size_authors})"
   ]
  },
  {
   "cell_type": "markdown",
   "metadata": {},
   "source": [
    "Each row represents a stats from a cluster's linear regression model, indexed by its cluster number. \n",
    "\n",
    "<b>Results:</b> \n",
    "- <b>A strong cluster.</b> Cluster 9 (if the optional, specific kmeans run is loaded) looks particularly strong, with a R = -0.99 and 7 critics/10 reviews.\n",
    "<p>\n",
    "- <b>Strong, but small clusters.</b> Regardless, from several kmeans runs (EDA not shown), there are usually several clusters that have strong agreement (R ~= 1) between actual vs. predicted rating BUT have very small sizes of critics and reviews. \n",
    "<p>\n",
    "- <b>High between-cluster variability.</b> Furthermore, it's clear that there is a large amount of variability between clusters - specfically how well the cluster's linear regression model was able to predict its critics' ratings. Often, 1 or 2 clusters will perform extremely well, and then the rest be all over the place within 0.0 < R < 0.5\n",
    "<p>\n",
    "\n",
    "<b>How to proceed?</b> One idea is to grab the best-performing cluster from each kmeans run and repeat runs, until all critics are clustered. In the following section, we explore this idea further."
   ]
  },
  {
   "cell_type": "markdown",
   "metadata": {},
   "source": [
    "## 3.4 Examine specific, well-performing clusters"
   ]
  },
  {
   "cell_type": "markdown",
   "metadata": {},
   "source": [
    "There is a high degree of variability between cluster performance, but occasionally kmeans runs will yield a cluster whose R and size stand out as particularly \"good\". Here, we examine such a cluster (Cluster 9) from our loaded example."
   ]
  },
  {
   "cell_type": "markdown",
   "metadata": {},
   "source": [
    "#### Make function to plot specific cluster's performance (on linear regression).\n",
    "\n",
    "If we want to examine well-performing clusters more closely."
   ]
  },
  {
   "cell_type": "code",
   "execution_count": null,
   "metadata": {},
   "outputs": [],
   "source": [
    "def cluster_plot(cluster_num, features): # features must be a list\n",
    "    \n",
    "    # grab info from previous section (i.e. where we linreg modelled all clusters)\n",
    "    y_test = y_tests[cluster_num]\n",
    "    prediction = predictions[cluster_num]\n",
    "    \n",
    "    # plot\n",
    "    g = sns.jointplot(y_test[:,0], prediction[:,0], kind='reg', color='orange',\n",
    "                      joint_kws={'line_kws':{'color':'yellow'}, 'scatter_kws': {'alpha': 0.9}});\n",
    "    plt.xlabel('actual');\n",
    "    plt.ylabel('predicted');"
   ]
  },
  {
   "cell_type": "markdown",
   "metadata": {},
   "source": [
    "#### Examine Cluster 9 from the kmeans results loaded earlier."
   ]
  },
  {
   "cell_type": "code",
   "execution_count": null,
   "metadata": {},
   "outputs": [],
   "source": [
    "cluster_num = 9\n",
    "features = ['acousticness', 'danceability', 'duration_ms', 'energy', 'instrumentalness', 'key', \n",
    "            'liveness', 'loudness', 'mode', 'speechiness', 'tempo', 'time_signature', 'valence', \n",
    "            'popularity']\n",
    "cluster_plot(cluster_num, features)"
   ]
  },
  {
   "cell_type": "markdown",
   "metadata": {},
   "source": [
    "There are fewer data points (3) than cluster size (10), because to get a measure of model accuracy, we must rely on the test set and its predicted values. Our test set size was set to 0.3 of total dataset size. \n",
    "\n",
    "Not pictured here are other iterations of \"well-performing\" clusters. What they all have in common is a fairly good fit and an acceptable number of data points. However, we need to get specific about how to choose select a \"well-performing\" cluster to set aside."
   ]
  },
  {
   "cell_type": "markdown",
   "metadata": {},
   "source": [
    "## 3.5 Discussion: criteria for \"best-performing\" cluster\n",
    "\n",
    "Plotting Cluster 9 in the previous section allowed us to visualize the high agreement between actual and predicted ratings, based on linear regression on the reviews written by critics in that cluster. There are 7 critics with 10 reviews in total. \n",
    "\n",
    "Evaluating what is a \"best-performing\" cluster from each iteration of kmeans is subjective, but let's try to define some criteria:\n",
    "- <b> Size >= 5.</b> There needs to be more than 5 reviews in the cluster, otherwise the cluster size is impractically small and our recommendation engine may rely on too many overfitted models.\n",
    "<p>\n",
    "- <b> Critics >= 2.</b> Same reason as above. Additionally:\n",
    "    - Since the clusters that our recommedation engine relies on will be based on similarity between critics, only at least 2 critics are required to create a cluster.\n",
    "    - Unlike reviews (13585 total), there are only 366 unique critics after all our data wrangling. So having a cluster size of 2 critics won't be as drastically overfitted as a cluster size of 2 reviews, for example.\n",
    "    \n",
    "<p>\n",
    "- <b> R >= 0.9.</b> This requires us to consider the subjective territory of how many points difference a rating would make on a consumer's perception of the album. \n",
    "    - Recall the Pitchfork rating system is 0-10. Would a scale of 0.1 or 1 points make a difference? R = 0.9 would mean that the rating could be off around 1.0 points, which might make a difference between considering listening to an 9.0-rated album vs. 10.0-rated album, or 7.0 vs. 8.0.\n",
    "    - However, this consideration must also be balanced with practical consideration for our modelling constraints. From several kmeans runs, it seems an R > 0.9 with review size > 5 is rare, but possible. Since we can afford to automate kmeans runs until this criteria is hit, we set 0.9 as our R criteria for now."
   ]
  },
  {
   "cell_type": "markdown",
   "metadata": {},
   "source": [
    "# 4. Conclusion\n",
    "---------------------------\n",
    "\n",
    "Now that we have set up an environment to generate clusters and pick the “best-performing” ones, we must determine how to proceed with our results. As seen with multiple runs (EDA not shown here), there is usually large inconsistency between clusters’ performances with each kmeans run.\n",
    "\n",
    "Because of this inconsistency, our next step is to write an algorithm that grabs the best-performing cluster out of k clusters and repeats the process, until all critics are clustered:\n",
    "1. Run kmeans on dataset and identify best-performing cluster.\n",
    "2. Save cluster and the critics belong to this cluster, then remove critics from dataset.\n",
    "3. Run kmeans again on the reduced dataset.\n",
    "\n",
    "We will repeat this process until all the critics are assigned to well-performing clusters."
   ]
  },
  {
   "cell_type": "code",
   "execution_count": null,
   "metadata": {},
   "outputs": [],
   "source": []
  }
 ],
 "metadata": {
  "kernelspec": {
   "display_name": "Python 3",
   "language": "python",
   "name": "python3"
  },
  "language_info": {
   "codemirror_mode": {
    "name": "ipython",
    "version": 3
   },
   "file_extension": ".py",
   "mimetype": "text/x-python",
   "name": "python",
   "nbconvert_exporter": "python",
   "pygments_lexer": "ipython3",
   "version": "3.6.3"
  }
 },
 "nbformat": 4,
 "nbformat_minor": 2
}
