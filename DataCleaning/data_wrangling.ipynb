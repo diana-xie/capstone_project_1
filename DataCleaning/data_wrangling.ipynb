{
 "cells": [
  {
   "cell_type": "markdown",
   "metadata": {},
   "source": [
    "## Description:\n",
    "Data wrangling & cleaning to compile a dataframe of all Pitchfork review/reviewer data and Spotify feature analysis to proceed with project's next steps (i.e. modeling reviewer bias, creating a recommendation engine based on these models).\n",
    "\n",
    "The final output of this notebook is a dataframe combining Spotify analysis & Pitchfork album data (<b>'df_pitchfork_spotify'</b>) and a dataframe of reviewer index and the reviews they authored (<b>'authors_reviews'</b>).\n",
    "\n",
    "<b>df_pitchfork_spotify</b>:\n",
    "\n",
    "- <b>album</b> <i>(str)</i>: album name\n",
    "- <b>artist</b> <i>(str)</i>: album artist\n",
    "- <b>reviewid</b> <i>(int)</i>: review id - for album's Pitchfork review\n",
    "- <b>spotify_album_id</b> <i>(str)</i>: album id - for obtaining its info from Spotify's API\n",
    "- <b>album_tracks</b> <i>(list)</i>: album's track list\n",
    "- <b>album_features</b> <i>(list of dictionaries)</i>: album's track's features; where dict key = track index, value = track's feature analysis scores\n",
    "- <b>album_features_avg</b> <i>(dict)</i>: album's track's features, averaged; where dict key = feature, value = feature score\n",
    "\n",
    "<b>df_authors_reviews</b>:\n",
    "- <b>author_fullname</b> <i>(str)</i>: author's (reviewer's) full name\n",
    "- <b>reviewid</b> <i>(list)</i>: list of id's of all reviews written by reviewer\n",
    "\n",
    "\n",
    "## Contents:\n",
    "#### 1. Wrangle Pitchfork data to index reviews by reviewer\n",
    "- 1.1 Prepare data from Pitchfork SQL database for analysis\n",
    "- 1.2 Clean reviewer list to avoid duplicating authors and misspellings\n",
    "- 1.3 Generate dataframe, where reviews indexed by reviewers\n",
    "\n",
    "#### 2. Pair Spotify API identifiers with review/reviewer data\n",
    "- 2.1 Wrangle & clean Pitchfork data in preparation for appending Spotify data\n",
    "- 2.2 Obtain Spotify API ID for each album\n",
    "- 2.3 Extract Spotify album feature analysis\n"
   ]
  },
  {
   "cell_type": "code",
   "execution_count": 2,
   "metadata": {},
   "outputs": [],
   "source": [
    "import pandas as pd\n",
    "import numpy as np\n",
    "from sqlalchemy import create_engine"
   ]
  },
  {
   "cell_type": "markdown",
   "metadata": {},
   "source": [
    "## 1. Wrangle Pitchfork data to index reviews by reviewer (output = 'authors_reviews' dataframe)"
   ]
  },
  {
   "cell_type": "markdown",
   "metadata": {},
   "source": [
    "### 1.1. Prepare data from Pitchfork SQL database for analysis"
   ]
  },
  {
   "cell_type": "code",
   "execution_count": 8,
   "metadata": {},
   "outputs": [
    {
     "data": {
      "text/html": [
       "<div>\n",
       "<style scoped>\n",
       "    .dataframe tbody tr th:only-of-type {\n",
       "        vertical-align: middle;\n",
       "    }\n",
       "\n",
       "    .dataframe tbody tr th {\n",
       "        vertical-align: top;\n",
       "    }\n",
       "\n",
       "    .dataframe thead th {\n",
       "        text-align: right;\n",
       "    }\n",
       "</style>\n",
       "<table border=\"1\" class=\"dataframe\">\n",
       "  <thead>\n",
       "    <tr style=\"text-align: right;\">\n",
       "      <th></th>\n",
       "      <th>reviewid</th>\n",
       "      <th>title</th>\n",
       "      <th>artist</th>\n",
       "      <th>url</th>\n",
       "      <th>score</th>\n",
       "      <th>best_new_music</th>\n",
       "      <th>author</th>\n",
       "      <th>author_type</th>\n",
       "      <th>pub_date</th>\n",
       "      <th>pub_weekday</th>\n",
       "      <th>pub_day</th>\n",
       "      <th>pub_month</th>\n",
       "      <th>pub_year</th>\n",
       "    </tr>\n",
       "  </thead>\n",
       "  <tbody>\n",
       "    <tr>\n",
       "      <th>0</th>\n",
       "      <td>22703</td>\n",
       "      <td>mezzanine</td>\n",
       "      <td>massive attack</td>\n",
       "      <td>http://pitchfork.com/reviews/albums/22703-mezz...</td>\n",
       "      <td>9.3</td>\n",
       "      <td>0</td>\n",
       "      <td>nate patrin</td>\n",
       "      <td>contributor</td>\n",
       "      <td>2017-01-08</td>\n",
       "      <td>6</td>\n",
       "      <td>8</td>\n",
       "      <td>1</td>\n",
       "      <td>2017</td>\n",
       "    </tr>\n",
       "    <tr>\n",
       "      <th>1</th>\n",
       "      <td>22721</td>\n",
       "      <td>prelapsarian</td>\n",
       "      <td>krallice</td>\n",
       "      <td>http://pitchfork.com/reviews/albums/22721-prel...</td>\n",
       "      <td>7.9</td>\n",
       "      <td>0</td>\n",
       "      <td>zoe camp</td>\n",
       "      <td>contributor</td>\n",
       "      <td>2017-01-07</td>\n",
       "      <td>5</td>\n",
       "      <td>7</td>\n",
       "      <td>1</td>\n",
       "      <td>2017</td>\n",
       "    </tr>\n",
       "    <tr>\n",
       "      <th>2</th>\n",
       "      <td>22659</td>\n",
       "      <td>all of them naturals</td>\n",
       "      <td>uranium club</td>\n",
       "      <td>http://pitchfork.com/reviews/albums/22659-all-...</td>\n",
       "      <td>7.3</td>\n",
       "      <td>0</td>\n",
       "      <td>david glickman</td>\n",
       "      <td>contributor</td>\n",
       "      <td>2017-01-07</td>\n",
       "      <td>5</td>\n",
       "      <td>7</td>\n",
       "      <td>1</td>\n",
       "      <td>2017</td>\n",
       "    </tr>\n",
       "    <tr>\n",
       "      <th>3</th>\n",
       "      <td>22661</td>\n",
       "      <td>first songs</td>\n",
       "      <td>kleenex, liliput</td>\n",
       "      <td>http://pitchfork.com/reviews/albums/22661-firs...</td>\n",
       "      <td>9.0</td>\n",
       "      <td>1</td>\n",
       "      <td>jenn pelly</td>\n",
       "      <td>associate reviews editor</td>\n",
       "      <td>2017-01-06</td>\n",
       "      <td>4</td>\n",
       "      <td>6</td>\n",
       "      <td>1</td>\n",
       "      <td>2017</td>\n",
       "    </tr>\n",
       "    <tr>\n",
       "      <th>4</th>\n",
       "      <td>22725</td>\n",
       "      <td>new start</td>\n",
       "      <td>taso</td>\n",
       "      <td>http://pitchfork.com/reviews/albums/22725-new-...</td>\n",
       "      <td>8.1</td>\n",
       "      <td>0</td>\n",
       "      <td>kevin lozano</td>\n",
       "      <td>tracks coordinator</td>\n",
       "      <td>2017-01-06</td>\n",
       "      <td>4</td>\n",
       "      <td>6</td>\n",
       "      <td>1</td>\n",
       "      <td>2017</td>\n",
       "    </tr>\n",
       "  </tbody>\n",
       "</table>\n",
       "</div>"
      ],
      "text/plain": [
       "   reviewid                 title            artist  \\\n",
       "0     22703             mezzanine    massive attack   \n",
       "1     22721          prelapsarian          krallice   \n",
       "2     22659  all of them naturals      uranium club   \n",
       "3     22661           first songs  kleenex, liliput   \n",
       "4     22725             new start              taso   \n",
       "\n",
       "                                                 url  score  best_new_music  \\\n",
       "0  http://pitchfork.com/reviews/albums/22703-mezz...    9.3               0   \n",
       "1  http://pitchfork.com/reviews/albums/22721-prel...    7.9               0   \n",
       "2  http://pitchfork.com/reviews/albums/22659-all-...    7.3               0   \n",
       "3  http://pitchfork.com/reviews/albums/22661-firs...    9.0               1   \n",
       "4  http://pitchfork.com/reviews/albums/22725-new-...    8.1               0   \n",
       "\n",
       "           author               author_type    pub_date  pub_weekday  pub_day  \\\n",
       "0     nate patrin               contributor  2017-01-08            6        8   \n",
       "1        zoe camp               contributor  2017-01-07            5        7   \n",
       "2  david glickman               contributor  2017-01-07            5        7   \n",
       "3      jenn pelly  associate reviews editor  2017-01-06            4        6   \n",
       "4    kevin lozano        tracks coordinator  2017-01-06            4        6   \n",
       "\n",
       "   pub_month  pub_year  \n",
       "0          1      2017  \n",
       "1          1      2017  \n",
       "2          1      2017  \n",
       "3          1      2017  \n",
       "4          1      2017  "
      ]
     },
     "execution_count": 8,
     "metadata": {},
     "output_type": "execute_result"
    }
   ],
   "source": [
    "engine = create_engine('sqlite:///database_pitchfork.sqlite') # Create database engine for Pitchfork SQL database\n",
    "con = engine.connect() # Connect to engine\n",
    "\n",
    "rs = con.execute('SELECT * FROM reviews') # Query the database (for reviews)\n",
    "\n",
    "df_pitchfork = pd.DataFrame(rs.fetchall()) # Save query results to DataFrame\n",
    "df_pitchfork.columns = rs.keys() # Name columns\n",
    "con.close() # Close connection\n",
    "\n",
    "df_pitchfork.head() # 'df_pitchfork': all data from Pitchfork SQL database, for general overview of data"
   ]
  },
  {
   "cell_type": "markdown",
   "metadata": {},
   "source": [
    "##### Column metadata:\n",
    "<b>'reviewid'</b>: Review unique key<br>\n",
    "<b>'title'</b>: Album title<br>\n",
    "<b>'artist'</b>: Name of recording artist<br>\n",
    "<b>'url'</b>: Review URL<br>\n",
    "<b>'score'</b>: Score on 10-point scale<br>\n",
    "<b>'best_new_music'</b>: Whether review categorized as a \"Best New Music\" review (1 for yes, 0 for no)<br>\n",
    "<b>'author'</b>: Name of reviewer<br>\n",
    "<b>'author_type'</b>: Reviewer type. Staff are given their specific titles while contributors are listed as \"Contributor\"<br>\n",
    "<b>'pub_date'</b>: Review publication date<br>\n",
    "<b>'pub_weekday'</b>: Review day of week<br>\n",
    "<b>'pub_day'</b>: Review day of"
   ]
  },
  {
   "cell_type": "markdown",
   "metadata": {},
   "source": [
    "### 1.2 Clean reviewer list for misspellings/duplicates and special characters"
   ]
  },
  {
   "cell_type": "markdown",
   "metadata": {},
   "source": [
    "####  Create dictionary ('dict_dupes') for duplicate and misspelled names to replace w/ \"correct\" name"
   ]
  },
  {
   "cell_type": "code",
   "execution_count": 9,
   "metadata": {},
   "outputs": [],
   "source": [
    "# key: misspelling/duplicate, value: replacement name (i.e. \"correct\" name)\n",
    "dict_dupes = dict({'mike':'michael', \n",
    "                   'matt ':'matthew ', \n",
    "                   'chris ':'christopher ', \n",
    "                   'dr.':'', \n",
    "                   'fennessy':'fennessey', \n",
    "                   'andrew':'drew', \n",
    "                   'abby':'abigail', \n",
    "                   'linhardt':'lindhart', \n",
    "                   'alex ':'alexander ', \n",
    "                   'josh ':'joshua ', \n",
    "                   'bill':'william', \n",
    "                   'savy':'saby', \n",
    "                   'richard-san':'richardson', \n",
    "                   'ben ':'benjamin ', \n",
    "                   'nick':'nicholas ', \n",
    "                   'iii':'' })"
   ]
  },
  {
   "cell_type": "markdown",
   "metadata": {},
   "source": [
    "#### Replace other special characters (ex. \"mu\") into form that Spotify API will recognize"
   ]
  },
  {
   "cell_type": "code",
   "execution_count": 10,
   "metadata": {},
   "outputs": [],
   "source": [
    "dict_artist_correct = {'-ziq':'u-ziq'}"
   ]
  },
  {
   "cell_type": "markdown",
   "metadata": {},
   "source": [
    "#### Data cleaning: \n",
    "- Remove special characters & punctuation\n",
    "- Replace misspellings & nicknames w/ \"correct\" entries (from 'dict_dupes')\n",
    "- Only include primary author"
   ]
  },
  {
   "cell_type": "code",
   "execution_count": 11,
   "metadata": {},
   "outputs": [],
   "source": [
    "import re\n",
    "\n",
    "authors = df_pitchfork['author']\n",
    "artists = df_pitchfork['artist']\n",
    "\n",
    "authors_new = []\n",
    "artists_new = []\n",
    "\n",
    "pattern_1 = r\"(?<!\\d)[.,;:](?!\\d)\" # remove all punctuation from string\n",
    "pattern_2 = r'\"' # remove double quotations\n",
    "\n",
    "for index in range(len(df_pitchfork)):\n",
    "    \n",
    "    a = df_pitchfork.loc[index]['author']\n",
    "    b = df_pitchfork.loc[index]['artist']\n",
    "    \n",
    "    artist_split = b.split(',')\n",
    "    if len(artist_split) > 1:\n",
    "        b = artist_split[0]\n",
    "        \n",
    "    for incorrect, correct in dict_dupes.items(): \n",
    "        if incorrect in a:\n",
    "            a = re.sub(incorrect, correct, a)\n",
    "    \n",
    "    # remove punctuation        \n",
    "    a = re.sub(pattern_1, \"\", a) \n",
    "    a = re.sub(pattern_2, \"\", a)\n",
    "    \n",
    "    # remove multiple authors to only include primary author\n",
    "    a_split = a.split()\n",
    "    if len(a_split) > 3: \n",
    "        a = a_split[0] + ' ' + a_split[1]\n",
    "    \n",
    "    # replace special characters in artists w/ something Spotify search can recognize\n",
    "    for incorrect, correct in dict_artist_correct.items():\n",
    "        if b == incorrect:\n",
    "            b = re.sub(incorrect, correct, b)\n",
    "    \n",
    "    authors_new.append(a)\n",
    "    artists_new.append(b)\n",
    "\n",
    "df_pitchfork['artist'] = artists_new"
   ]
  },
  {
   "cell_type": "markdown",
   "metadata": {},
   "source": [
    "#### Remove middle names/initials to avoid duplicating authors"
   ]
  },
  {
   "cell_type": "code",
   "execution_count": 12,
   "metadata": {},
   "outputs": [],
   "source": [
    "first_name = [] \n",
    "last_name = [] \n",
    "full_name = []\n",
    "\n",
    "for author in authors_new:\n",
    "    \n",
    "    author_split = author.split()\n",
    "    \n",
    "    if len(author_split) <= 3: # remove middle names & initials\n",
    "        first = author_split[0]\n",
    "        last = author_split[-1]\n",
    "    else:\n",
    "        firstlast = re.search('(.*) (.*)', author)\n",
    "        first = firstlast.group(1)\n",
    "        last = firstlast.group(2)\n",
    "    \n",
    "    first_name.append(first)\n",
    "    last_name.append(last)\n",
    "    \n",
    "    full_name.append(first + \" \" + last)"
   ]
  },
  {
   "cell_type": "markdown",
   "metadata": {},
   "source": [
    "##### (Optional:) Save as csv in case want to manually review  author list"
   ]
  },
  {
   "cell_type": "code",
   "execution_count": 131,
   "metadata": {},
   "outputs": [],
   "source": [
    "from collections import OrderedDict\n",
    "\n",
    "authors_ordered = pd.DataFrame(OrderedDict({'Last Name': last_name, 'First Name': first_name}))\n",
    "authors_ordered.to_csv('authors_ordered2.csv')"
   ]
  },
  {
   "cell_type": "markdown",
   "metadata": {},
   "source": [
    "#### \"Pickle\" cleaned Pitchfork database to use in other scripts"
   ]
  },
  {
   "cell_type": "code",
   "execution_count": 130,
   "metadata": {},
   "outputs": [],
   "source": [
    "df_pitchfork.to_pickle('df_pitchfork.pkl')"
   ]
  },
  {
   "cell_type": "markdown",
   "metadata": {},
   "source": [
    "### 1.2 Combine reviewers and reviews into dataframe ('authors_reviews'), where .index = reviewers, .values = reviews"
   ]
  },
  {
   "cell_type": "code",
   "execution_count": 71,
   "metadata": {},
   "outputs": [
    {
     "data": {
      "text/html": [
       "<div>\n",
       "<style scoped>\n",
       "    .dataframe tbody tr th:only-of-type {\n",
       "        vertical-align: middle;\n",
       "    }\n",
       "\n",
       "    .dataframe tbody tr th {\n",
       "        vertical-align: top;\n",
       "    }\n",
       "\n",
       "    .dataframe thead th {\n",
       "        text-align: right;\n",
       "    }\n",
       "</style>\n",
       "<table border=\"1\" class=\"dataframe\">\n",
       "  <thead>\n",
       "    <tr style=\"text-align: right;\">\n",
       "      <th></th>\n",
       "      <th>author_fullname</th>\n",
       "      <th>reviews</th>\n",
       "    </tr>\n",
       "  </thead>\n",
       "  <tbody>\n",
       "    <tr>\n",
       "      <th>0</th>\n",
       "      <td>aaron leitko</td>\n",
       "      <td>[21950, 21820, 21753, 21622, 21572, 21283, 213...</td>\n",
       "    </tr>\n",
       "    <tr>\n",
       "      <th>1</th>\n",
       "      <td>abigail covington</td>\n",
       "      <td>[22138, 21544]</td>\n",
       "    </tr>\n",
       "    <tr>\n",
       "      <th>2</th>\n",
       "      <td>abigail garnett</td>\n",
       "      <td>[21050, 20968, 20694, 20570, 20405, 20134, 199...</td>\n",
       "    </tr>\n",
       "    <tr>\n",
       "      <th>3</th>\n",
       "      <td>adam dlugacz</td>\n",
       "      <td>[6794]</td>\n",
       "    </tr>\n",
       "    <tr>\n",
       "      <th>4</th>\n",
       "      <td>adam moerder</td>\n",
       "      <td>[13207, 13007, 12956, 12939, 12861, 12673, 126...</td>\n",
       "    </tr>\n",
       "  </tbody>\n",
       "</table>\n",
       "</div>"
      ],
      "text/plain": [
       "     author_fullname                                            reviews\n",
       "0       aaron leitko  [21950, 21820, 21753, 21622, 21572, 21283, 213...\n",
       "1  abigail covington                                     [22138, 21544]\n",
       "2    abigail garnett  [21050, 20968, 20694, 20570, 20405, 20134, 199...\n",
       "3       adam dlugacz                                             [6794]\n",
       "4       adam moerder  [13207, 13007, 12956, 12939, 12861, 12673, 126..."
      ]
     },
     "execution_count": 71,
     "metadata": {},
     "output_type": "execute_result"
    }
   ],
   "source": [
    "df_authors_reviews = pd.DataFrame({'reviewid': df_pitchfork['reviewid'], 'author_fullname':full_name})\n",
    "df_authors_reviews.groupby('author_fullname')\n",
    "df_authors_reviews = pd.DataFrame(df_authors_reviews.groupby(['author_fullname'])['reviewid'].apply(list))\n",
    "df_authors_reviews = pd.DataFrame({'reviews':df_authors_reviews['reviewid']}).reset_index()\n",
    "df_authors_reviews.head()"
   ]
  },
  {
   "cell_type": "markdown",
   "metadata": {},
   "source": [
    "#### Save cleaned authors & reviews dataframe as csv"
   ]
  },
  {
   "cell_type": "code",
   "execution_count": 131,
   "metadata": {},
   "outputs": [],
   "source": [
    "df_authors_reviews.to_pickle('df_authors_reviews.pkl')"
   ]
  },
  {
   "cell_type": "markdown",
   "metadata": {},
   "source": [
    "## 2. Pair Spotify API identifiers with review/reviewer data\n",
    "\n",
    "Spotify API access provided by Python library 'Spotipy' (https://github.com/plamere/spotipy). In order to access Spotify's API (with or without Spotipy), you must obtain a client ID & secret ID after registering an \"app\". Instructions here:  https://beta.developer.spotify.com/documentation/web-api/quick-start/\n",
    "\n",
    "Before running, need to manually enter the following into the code below:\n",
    "- Client ID\n",
    "- Secret ID\n",
    "- Redirect address (used to provide access token)\n",
    "- Scope of query (https://beta.developer.spotify.com/documentation/general/guides/scopes/)"
   ]
  },
  {
   "cell_type": "code",
   "execution_count": 455,
   "metadata": {},
   "outputs": [],
   "source": [
    "# Manually enter client id, secret id, and redirect address (used to provide access token)\n",
    "myClientId = ''\n",
    "mySecret = ''\n",
    "myRedirect = '' # usually 'http://localhost:8888/callback'\n",
    "\n",
    "# Scope of your query to Spotify API\n",
    "scope = 'user-library-read' # ex: 'user-library-read'"
   ]
  },
  {
   "cell_type": "markdown",
   "metadata": {},
   "source": [
    "### 2.1 Wrangle & clean Pitchfork data in preparation for appending Spotify data"
   ]
  },
  {
   "cell_type": "code",
   "execution_count": 140,
   "metadata": {},
   "outputs": [],
   "source": [
    "# Generate dataframe of artist, album, and its review id\n",
    "df1 = pd.DataFrame({'artist':df_pitchfork['artist'], \n",
    "                    'album':df_pitchfork['title'], \n",
    "                    'reviewid':df_pitchfork['reviewid'],\n",
    "                    'score':df_pitchfork['score']})"
   ]
  },
  {
   "cell_type": "markdown",
   "metadata": {},
   "source": [
    "#### Remove albums with artist = 'various artists'"
   ]
  },
  {
   "cell_type": "code",
   "execution_count": 141,
   "metadata": {},
   "outputs": [],
   "source": [
    "df1 = df1[df1['artist']!='various artists'].reset_index(drop=True)"
   ]
  },
  {
   "cell_type": "markdown",
   "metadata": {},
   "source": [
    "#### Remove 'EP' from EP album title (since it interferes w/ Spotify album search)"
   ]
  },
  {
   "cell_type": "code",
   "execution_count": 142,
   "metadata": {},
   "outputs": [],
   "source": [
    "for index, row in df1.iterrows():\n",
    "    album_split = row['album'].split()\n",
    "    if len(album_split) == 0: # some Pitchfork database entries have empty title & artist, even though they have a reviewid\n",
    "        continue\n",
    "    if album_split[-1] == 'ep':\n",
    "        album_new = \" \".join(album_split[:-1])\n",
    "        df1.at[index, 'album'] = album_new"
   ]
  },
  {
   "cell_type": "markdown",
   "metadata": {},
   "source": [
    "### 2.2 Obtain Spotify API ID for each album"
   ]
  },
  {
   "cell_type": "code",
   "execution_count": 143,
   "metadata": {},
   "outputs": [],
   "source": [
    "import sys\n",
    "import spotipy\n",
    "import spotipy.util as util\n",
    "from spotipy.oauth2 import SpotifyClientCredentials\n",
    "from pandas.io.json import json_normalize"
   ]
  },
  {
   "cell_type": "markdown",
   "metadata": {},
   "source": [
    "#### Set up access to Spotify API"
   ]
  },
  {
   "cell_type": "code",
   "execution_count": 144,
   "metadata": {
    "scrolled": true
   },
   "outputs": [],
   "source": [
    "if len(sys.argv) > 1:\n",
    "    username = sys.argv[1]\n",
    "else:\n",
    "    print( 'Usage: %s username' % (sys.argv[0],))\n",
    "    sys.exit()\n",
    "\n",
    "# Generate access token\n",
    "token = util.prompt_for_user_token(username, scope, myClientId, mySecret, myRedirect)\n",
    "\n",
    "# Generate Spotify object w/ access token\n",
    "client_credentials_manager = SpotifyClientCredentials(client_id = myClientId, client_secret = mySecret)\n",
    "sp = spotipy.Spotify(client_credentials_manager=client_credentials_manager)\n",
    "\n",
    "#sp = spotipy.Spotify(auth=token)\n",
    "sp.trace = False\n",
    "\n",
    "print(token)"
   ]
  },
  {
   "cell_type": "markdown",
   "metadata": {},
   "source": [
    "#### Extract Spotify album ID's"
   ]
  },
  {
   "cell_type": "code",
   "execution_count": 145,
   "metadata": {},
   "outputs": [
    {
     "name": "stdout",
     "output_type": "stream",
     "text": [
      "retrying ...1secs\n",
      "retrying ...1secs\n",
      "retrying ...1secs\n",
      "retrying ...1secs\n",
      "retrying ...1secs\n",
      "retrying ...1secs\n",
      "retrying ...1secs\n",
      "retrying ...1secs\n",
      "retrying ...1secs\n",
      "retrying ...2secs\n",
      "retrying ...1secs\n",
      "retrying ...1secs\n",
      "retrying ...1secs\n",
      "retrying ...2secs\n",
      "retrying ...3secs\n",
      "done\n"
     ]
    }
   ],
   "source": [
    "import time\n",
    "\n",
    "results_id = []\n",
    "counter = 0\n",
    "\n",
    "for index, row in df1.iterrows():\n",
    "    \n",
    "    # avoid hitting Spotify rate limit by pausing queries every 2000 queries\n",
    "    counter = counter + 1\n",
    "    if counter%2000 == 0: \n",
    "        time.sleep(120) # (sec)\n",
    "    \n",
    "    album = row['album']\n",
    "    artist_multiple = row['artist'].split(',')\n",
    "    artist = artist_multiple[0]\n",
    "\n",
    "    # find album by name (documentation on queries here: https://beta.developer.spotify.com/documentation/web-api/reference/search/search/)\n",
    "    results = sp.search(q = 'album:' + album + ' artist:' + artist, type = 'album', limit=20)\n",
    "    \n",
    "    # get results from album search\n",
    "    if len(results['albums']['items']) == 0: # Spotify doesn't have the album\n",
    "        narrow_result_id = np.nan\n",
    "        results_id.append(narrow_result_id)    \n",
    "        continue\n",
    "    else:\n",
    "        album_data = results['albums']['items']\n",
    "\n",
    "    # narrow results to match artist, following album search\n",
    "    df_results = json_normalize(album_data, 'artists')\n",
    "    df_results['name'] = df_results['name'].str.lower() # all initial results\n",
    "    df_narrow = df_results[df_results['name']==artist] # narrowed results by artist query\n",
    "    \n",
    "    # no results from search. so try second artist if >1 artist for album\n",
    "    if len(df_narrow) == 0 & len(artist_multiple) > 1:\n",
    "        df_results = json_normalize(album_data, 'artists')\n",
    "        df_results['name'] = df_results['name'].str.lower() # all initial results\n",
    "        df_narrow = df_results[df_results['name']==artist] # narrowed results by artist query\n",
    "    \n",
    "    # give up search: Spotify probably doesn't carry the album\n",
    "    if len(df_narrow) == 0: \n",
    "        narrow_result_id = np.nan\n",
    "        results_id.append(narrow_result_id)\n",
    "        continue\n",
    "\n",
    "    # extract necessary spotify album id from narrowed result\n",
    "    if len(df_results.index) > len(album_data): # special case when narrowed result album has 2 authors; requires special parsing\n",
    "        album_idx = 0\n",
    "    else:\n",
    "        album_idx = df_narrow.index[0]\n",
    "    \n",
    "    album_id = album_data[album_idx]['id']\n",
    "    results_id.append(album_id)\n",
    "\n",
    "print('done')"
   ]
  },
  {
   "cell_type": "markdown",
   "metadata": {},
   "source": [
    "#### Append Pitchfork artist-album data with Spotify album identifiers"
   ]
  },
  {
   "cell_type": "code",
   "execution_count": 147,
   "metadata": {},
   "outputs": [
    {
     "data": {
      "text/html": [
       "<div>\n",
       "<style scoped>\n",
       "    .dataframe tbody tr th:only-of-type {\n",
       "        vertical-align: middle;\n",
       "    }\n",
       "\n",
       "    .dataframe tbody tr th {\n",
       "        vertical-align: top;\n",
       "    }\n",
       "\n",
       "    .dataframe thead th {\n",
       "        text-align: right;\n",
       "    }\n",
       "</style>\n",
       "<table border=\"1\" class=\"dataframe\">\n",
       "  <thead>\n",
       "    <tr style=\"text-align: right;\">\n",
       "      <th></th>\n",
       "      <th>album</th>\n",
       "      <th>artist</th>\n",
       "      <th>reviewid</th>\n",
       "      <th>score</th>\n",
       "      <th>spotify_album_id</th>\n",
       "    </tr>\n",
       "  </thead>\n",
       "  <tbody>\n",
       "    <tr>\n",
       "      <th>0</th>\n",
       "      <td>mezzanine</td>\n",
       "      <td>massive attack</td>\n",
       "      <td>22703</td>\n",
       "      <td>9.3</td>\n",
       "      <td>49MNmJhZQewjt06rpwp6QR</td>\n",
       "    </tr>\n",
       "    <tr>\n",
       "      <th>1</th>\n",
       "      <td>prelapsarian</td>\n",
       "      <td>krallice</td>\n",
       "      <td>22721</td>\n",
       "      <td>7.9</td>\n",
       "      <td>264k3RcZ8BGWTc1TlH8gvs</td>\n",
       "    </tr>\n",
       "    <tr>\n",
       "      <th>2</th>\n",
       "      <td>all of them naturals</td>\n",
       "      <td>uranium club</td>\n",
       "      <td>22659</td>\n",
       "      <td>7.3</td>\n",
       "      <td>5M3Cx38HT8sD8ulnrSZsXi</td>\n",
       "    </tr>\n",
       "    <tr>\n",
       "      <th>3</th>\n",
       "      <td>first songs</td>\n",
       "      <td>kleenex</td>\n",
       "      <td>22661</td>\n",
       "      <td>9.0</td>\n",
       "      <td>NaN</td>\n",
       "    </tr>\n",
       "    <tr>\n",
       "      <th>4</th>\n",
       "      <td>new start</td>\n",
       "      <td>taso</td>\n",
       "      <td>22725</td>\n",
       "      <td>8.1</td>\n",
       "      <td>7hhPEiSLGSFdHJEheB8IL3</td>\n",
       "    </tr>\n",
       "  </tbody>\n",
       "</table>\n",
       "</div>"
      ],
      "text/plain": [
       "                  album          artist  reviewid  score  \\\n",
       "0             mezzanine  massive attack     22703    9.3   \n",
       "1          prelapsarian        krallice     22721    7.9   \n",
       "2  all of them naturals    uranium club     22659    7.3   \n",
       "3           first songs         kleenex     22661    9.0   \n",
       "4             new start            taso     22725    8.1   \n",
       "\n",
       "         spotify_album_id  \n",
       "0  49MNmJhZQewjt06rpwp6QR  \n",
       "1  264k3RcZ8BGWTc1TlH8gvs  \n",
       "2  5M3Cx38HT8sD8ulnrSZsXi  \n",
       "3                     NaN  \n",
       "4  7hhPEiSLGSFdHJEheB8IL3  "
      ]
     },
     "execution_count": 147,
     "metadata": {},
     "output_type": "execute_result"
    }
   ],
   "source": [
    "df1['spotify_album_id'] = results_id\n",
    "df1.head()"
   ]
  },
  {
   "cell_type": "markdown",
   "metadata": {},
   "source": [
    "### 2.3 Extract Spotify album feature analysis\n",
    "\n",
    "Spotify feature analysis is conducted on a per-track basis (i.e. not album). Therefore, to obtain 'feature analysis' for an entire album, I average the album's tracks' features."
   ]
  },
  {
   "cell_type": "markdown",
   "metadata": {},
   "source": [
    "#### Drop albums w/ no Spotify data, since they contain no audio feature data for analysis.\n",
    "\n",
    "There are a few albums in the Pitchfork database with reviewid's (and presumably reviews), but no album or artist information. Therefore, these are dropped as no Spotify data can be obtained."
   ]
  },
  {
   "cell_type": "code",
   "execution_count": 37,
   "metadata": {},
   "outputs": [
    {
     "data": {
      "text/html": [
       "<div>\n",
       "<style scoped>\n",
       "    .dataframe tbody tr th:only-of-type {\n",
       "        vertical-align: middle;\n",
       "    }\n",
       "\n",
       "    .dataframe tbody tr th {\n",
       "        vertical-align: top;\n",
       "    }\n",
       "\n",
       "    .dataframe thead th {\n",
       "        text-align: right;\n",
       "    }\n",
       "</style>\n",
       "<table border=\"1\" class=\"dataframe\">\n",
       "  <thead>\n",
       "    <tr style=\"text-align: right;\">\n",
       "      <th></th>\n",
       "      <th>album</th>\n",
       "      <th>artist</th>\n",
       "      <th>reviewid</th>\n",
       "      <th>score</th>\n",
       "      <th>spotify_album_id</th>\n",
       "    </tr>\n",
       "  </thead>\n",
       "  <tbody>\n",
       "    <tr>\n",
       "      <th>0</th>\n",
       "      <td>mezzanine</td>\n",
       "      <td>massive attack</td>\n",
       "      <td>22703</td>\n",
       "      <td>9.3</td>\n",
       "      <td>49MNmJhZQewjt06rpwp6QR</td>\n",
       "    </tr>\n",
       "    <tr>\n",
       "      <th>1</th>\n",
       "      <td>prelapsarian</td>\n",
       "      <td>krallice</td>\n",
       "      <td>22721</td>\n",
       "      <td>7.9</td>\n",
       "      <td>264k3RcZ8BGWTc1TlH8gvs</td>\n",
       "    </tr>\n",
       "    <tr>\n",
       "      <th>2</th>\n",
       "      <td>all of them naturals</td>\n",
       "      <td>uranium club</td>\n",
       "      <td>22659</td>\n",
       "      <td>7.3</td>\n",
       "      <td>5M3Cx38HT8sD8ulnrSZsXi</td>\n",
       "    </tr>\n",
       "    <tr>\n",
       "      <th>3</th>\n",
       "      <td>new start</td>\n",
       "      <td>taso</td>\n",
       "      <td>22725</td>\n",
       "      <td>8.1</td>\n",
       "      <td>7hhPEiSLGSFdHJEheB8IL3</td>\n",
       "    </tr>\n",
       "    <tr>\n",
       "      <th>4</th>\n",
       "      <td>stillness in wonderland</td>\n",
       "      <td>little simz</td>\n",
       "      <td>22704</td>\n",
       "      <td>7.1</td>\n",
       "      <td>4G50FUTTI4fCDyrxP1UEer</td>\n",
       "    </tr>\n",
       "  </tbody>\n",
       "</table>\n",
       "</div>"
      ],
      "text/plain": [
       "                     album          artist  reviewid  score  \\\n",
       "0                mezzanine  massive attack     22703    9.3   \n",
       "1             prelapsarian        krallice     22721    7.9   \n",
       "2     all of them naturals    uranium club     22659    7.3   \n",
       "3                new start            taso     22725    8.1   \n",
       "4  stillness in wonderland     little simz     22704    7.1   \n",
       "\n",
       "         spotify_album_id  \n",
       "0  49MNmJhZQewjt06rpwp6QR  \n",
       "1  264k3RcZ8BGWTc1TlH8gvs  \n",
       "2  5M3Cx38HT8sD8ulnrSZsXi  \n",
       "3  7hhPEiSLGSFdHJEheB8IL3  \n",
       "4  4G50FUTTI4fCDyrxP1UEer  "
      ]
     },
     "execution_count": 37,
     "metadata": {},
     "output_type": "execute_result"
    }
   ],
   "source": [
    "df2 = df1\n",
    "df2.dropna(subset=['spotify_album_id'], inplace=True)\n",
    "df2 = df1.reset_index(drop=True)\n",
    "df2.head()"
   ]
  },
  {
   "cell_type": "markdown",
   "metadata": {},
   "source": [
    "#### Get album tracks and feature analysis for each track"
   ]
  },
  {
   "cell_type": "code",
   "execution_count": 138,
   "metadata": {
    "scrolled": true
   },
   "outputs": [
    {
     "name": "stdout",
     "output_type": "stream",
     "text": [
      "done\n"
     ]
    }
   ],
   "source": [
    "album_tracks = []\n",
    "album_features = []\n",
    "album_features_avg = []\n",
    "\n",
    "album_date = []\n",
    "album_trackcount = []\n",
    "album_popularity = []\n",
    "album_genre = []\n",
    "\n",
    "for index, row in df2.iterrows(): # each row = album\n",
    "    \n",
    "    # avoid hitting Spotify rate limit by pausing queries every 2000 queries\n",
    "    counter = counter + 1\n",
    "    if counter%2000 == 0: \n",
    "        time.sleep(120) # (sec)  \n",
    "        \n",
    "    # 1. extract track list from album\n",
    "    album_id = row['spotify_album_id']\n",
    "    track_list = sp.album_tracks(album_id)['items']\n",
    "\n",
    "    # 2. extract track name and Spotify feature analysis per track\n",
    "    track_names = [] # list of names of all tracks in album\n",
    "    track_features = [] # list of dictionaries, where each dictionary = feature scores for each track of album\n",
    "    track_features_avg = [] # list of feature scores for album, averaged\n",
    "    track_uris = []\n",
    "    \n",
    "    for track in track_list:\n",
    "        track_names.append(track['name'])\n",
    "        track_uris.append(track['uri'] )\n",
    "    \n",
    "    track_features = sp.audio_features(track_uris)\n",
    "    \n",
    "    if None in track_features:\n",
    "        album_tracks.append(np.nan)\n",
    "        album_features.append(np.nan)\n",
    "        album_features_avg.append(np.nan)\n",
    "        continue\n",
    "    \n",
    "    # 3. strip out info that is not an audio feature (ex. 'analysis_url', 'track_href', 'track uri')\n",
    "    feature_list = []\n",
    "    for key, value in track_features[0].items():\n",
    "        if type(value) == float or type(value) == int:\n",
    "            feature_list.append(key)\n",
    "        else:\n",
    "            continue\n",
    "    \n",
    "    # 4. average all tracks' features for the album\n",
    "    track_features_avg = {}\n",
    "    for feature in feature_list:\n",
    "        to_average = []\n",
    "        for feature_dict in track_features: # feature_dict = dictionary of features for the track \n",
    "            to_average.append(feature_dict[feature])\n",
    "        average = sum(to_average) / len(to_average)\n",
    "        track_features_avg[feature] = average # key: feature, value: averaged feature between all tracks of the album\n",
    "    \n",
    "    # 5. extract album info\n",
    "    album_info = sp.album(album_id)\n",
    "    \n",
    "    # 6. compile album data\n",
    "    \n",
    "    album_tracks.append(track_names)\n",
    "    album_features.append(track_features)\n",
    "    album_features_avg.append(track_features_avg)\n",
    "    \n",
    "    album_date.append(album_info['release_date'])\n",
    "    album_trackcount.append(len(track_list))\n",
    "    album_popularity.append(album_info['popularity'])\n",
    "    album_genres.append(album_info['genres'])\n",
    "\n",
    "print('done')"
   ]
  },
  {
   "cell_type": "markdown",
   "metadata": {},
   "source": [
    "#### Append newly extracted Spotify album feature analysis to final output ('df_pitchfork_spotify')"
   ]
  },
  {
   "cell_type": "code",
   "execution_count": 126,
   "metadata": {},
   "outputs": [
    {
     "data": {
      "text/html": [
       "<div>\n",
       "<style scoped>\n",
       "    .dataframe tbody tr th:only-of-type {\n",
       "        vertical-align: middle;\n",
       "    }\n",
       "\n",
       "    .dataframe tbody tr th {\n",
       "        vertical-align: top;\n",
       "    }\n",
       "\n",
       "    .dataframe thead th {\n",
       "        text-align: right;\n",
       "    }\n",
       "</style>\n",
       "<table border=\"1\" class=\"dataframe\">\n",
       "  <thead>\n",
       "    <tr style=\"text-align: right;\">\n",
       "      <th></th>\n",
       "      <th>album</th>\n",
       "      <th>artist</th>\n",
       "      <th>reviewid</th>\n",
       "      <th>score</th>\n",
       "      <th>spotify_album_id</th>\n",
       "      <th>album_tracks</th>\n",
       "      <th>album_features</th>\n",
       "      <th>album_features_avg</th>\n",
       "      <th>album_trackcount</th>\n",
       "      <th>album_popularity</th>\n",
       "      <th>album_genres</th>\n",
       "    </tr>\n",
       "  </thead>\n",
       "  <tbody>\n",
       "    <tr>\n",
       "      <th>0</th>\n",
       "      <td>mezzanine</td>\n",
       "      <td>massive attack</td>\n",
       "      <td>22703</td>\n",
       "      <td>9.3</td>\n",
       "      <td>49MNmJhZQewjt06rpwp6QR</td>\n",
       "      <td>[Angel, Risingson, Teardrop, Inertia Creeps, E...</td>\n",
       "      <td>[{'danceability': 0.714, 'energy': 0.309, 'key...</td>\n",
       "      <td>{'danceability': 0.6041818181818182, 'energy':...</td>\n",
       "      <td>11</td>\n",
       "      <td>64</td>\n",
       "      <td>[]</td>\n",
       "    </tr>\n",
       "    <tr>\n",
       "      <th>1</th>\n",
       "      <td>prelapsarian</td>\n",
       "      <td>krallice</td>\n",
       "      <td>22721</td>\n",
       "      <td>7.9</td>\n",
       "      <td>264k3RcZ8BGWTc1TlH8gvs</td>\n",
       "      <td>[Transformation Chronicles, Hate Power, Confla...</td>\n",
       "      <td>[{'danceability': 0.108, 'energy': 0.806, 'key...</td>\n",
       "      <td>{'danceability': 0.131, 'energy': 0.867, 'key'...</td>\n",
       "      <td>4</td>\n",
       "      <td>10</td>\n",
       "      <td>[]</td>\n",
       "    </tr>\n",
       "    <tr>\n",
       "      <th>2</th>\n",
       "      <td>all of them naturals</td>\n",
       "      <td>uranium club</td>\n",
       "      <td>22659</td>\n",
       "      <td>7.3</td>\n",
       "      <td>5M3Cx38HT8sD8ulnrSZsXi</td>\n",
       "      <td>[Introduction, That Clown's Got A Gun, The Lot...</td>\n",
       "      <td>[{'danceability': 0.613, 'energy': 0.85, 'key'...</td>\n",
       "      <td>{'danceability': 0.44499999999999995, 'energy'...</td>\n",
       "      <td>8</td>\n",
       "      <td>28</td>\n",
       "      <td>[]</td>\n",
       "    </tr>\n",
       "    <tr>\n",
       "      <th>3</th>\n",
       "      <td>new start</td>\n",
       "      <td>taso</td>\n",
       "      <td>22725</td>\n",
       "      <td>8.1</td>\n",
       "      <td>7hhPEiSLGSFdHJEheB8IL3</td>\n",
       "      <td>[New Start, Don't Get Mad, Bussin, AM Track, I...</td>\n",
       "      <td>[{'danceability': 0.428, 'energy': 0.467, 'key...</td>\n",
       "      <td>{'danceability': 0.5502857142857143, 'energy':...</td>\n",
       "      <td>7</td>\n",
       "      <td>14</td>\n",
       "      <td>[]</td>\n",
       "    </tr>\n",
       "    <tr>\n",
       "      <th>4</th>\n",
       "      <td>stillness in wonderland</td>\n",
       "      <td>little simz</td>\n",
       "      <td>22704</td>\n",
       "      <td>7.1</td>\n",
       "      <td>4G50FUTTI4fCDyrxP1UEer</td>\n",
       "      <td>[LMPD, Cheshire's Interlude: Welcome To Wonder...</td>\n",
       "      <td>[{'danceability': 0.614, 'energy': 0.507, 'key...</td>\n",
       "      <td>{'danceability': 0.5925333333333334, 'energy':...</td>\n",
       "      <td>15</td>\n",
       "      <td>46</td>\n",
       "      <td>[]</td>\n",
       "    </tr>\n",
       "  </tbody>\n",
       "</table>\n",
       "</div>"
      ],
      "text/plain": [
       "                     album          artist  reviewid  score  \\\n",
       "0                mezzanine  massive attack     22703    9.3   \n",
       "1             prelapsarian        krallice     22721    7.9   \n",
       "2     all of them naturals    uranium club     22659    7.3   \n",
       "3                new start            taso     22725    8.1   \n",
       "4  stillness in wonderland     little simz     22704    7.1   \n",
       "\n",
       "         spotify_album_id                                       album_tracks  \\\n",
       "0  49MNmJhZQewjt06rpwp6QR  [Angel, Risingson, Teardrop, Inertia Creeps, E...   \n",
       "1  264k3RcZ8BGWTc1TlH8gvs  [Transformation Chronicles, Hate Power, Confla...   \n",
       "2  5M3Cx38HT8sD8ulnrSZsXi  [Introduction, That Clown's Got A Gun, The Lot...   \n",
       "3  7hhPEiSLGSFdHJEheB8IL3  [New Start, Don't Get Mad, Bussin, AM Track, I...   \n",
       "4  4G50FUTTI4fCDyrxP1UEer  [LMPD, Cheshire's Interlude: Welcome To Wonder...   \n",
       "\n",
       "                                      album_features  \\\n",
       "0  [{'danceability': 0.714, 'energy': 0.309, 'key...   \n",
       "1  [{'danceability': 0.108, 'energy': 0.806, 'key...   \n",
       "2  [{'danceability': 0.613, 'energy': 0.85, 'key'...   \n",
       "3  [{'danceability': 0.428, 'energy': 0.467, 'key...   \n",
       "4  [{'danceability': 0.614, 'energy': 0.507, 'key...   \n",
       "\n",
       "                                  album_features_avg  album_trackcount  \\\n",
       "0  {'danceability': 0.6041818181818182, 'energy':...                11   \n",
       "1  {'danceability': 0.131, 'energy': 0.867, 'key'...                 4   \n",
       "2  {'danceability': 0.44499999999999995, 'energy'...                 8   \n",
       "3  {'danceability': 0.5502857142857143, 'energy':...                 7   \n",
       "4  {'danceability': 0.5925333333333334, 'energy':...                15   \n",
       "\n",
       "   album_popularity album_genres  \n",
       "0                64           []  \n",
       "1                10           []  \n",
       "2                28           []  \n",
       "3                14           []  \n",
       "4                46           []  "
      ]
     },
     "execution_count": 126,
     "metadata": {},
     "output_type": "execute_result"
    }
   ],
   "source": [
    "df2['album_tracks'] = album_tracks\n",
    "df2['album_features'] = album_features\n",
    "df2['album_features_avg'] = album_features_avg\n",
    "df2['album_trackcount'] = album_trackcount\n",
    "df2['album_popularity'] = album_popularity\n",
    "df2['album_genres'] = album_genres\n",
    "df2.head()"
   ]
  },
  {
   "cell_type": "code",
   "execution_count": 132,
   "metadata": {},
   "outputs": [],
   "source": [
    "df2.to_pickle('df_pitchfork_spotify.pkl')"
   ]
  }
 ],
 "metadata": {
  "kernelspec": {
   "display_name": "Python 3",
   "language": "python",
   "name": "python3"
  },
  "language_info": {
   "codemirror_mode": {
    "name": "ipython",
    "version": 3
   },
   "file_extension": ".py",
   "mimetype": "text/x-python",
   "name": "python",
   "nbconvert_exporter": "python",
   "pygments_lexer": "ipython3",
   "version": "3.6.3"
  }
 },
 "nbformat": 4,
 "nbformat_minor": 2
}
